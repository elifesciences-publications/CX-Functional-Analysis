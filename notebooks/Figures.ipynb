{
 "cells": [
  {
   "cell_type": "markdown",
   "metadata": {},
   "source": [
    "# Figures\n",
    "This notebook follows the ```makeFigures.jl``` that was used to make (most of) the figures for the paper, skipping the exports for Binder."
   ]
  },
  {
   "cell_type": "markdown",
   "metadata": {},
   "source": [
    "#### Load packages\n",
    "We use the [Plots](http://docs.juliaplots.org/latest/) package with the plot.ly backend for plotting."
   ]
  },
  {
   "cell_type": "code",
   "execution_count": null,
   "metadata": {},
   "outputs": [],
   "source": [
    "using GroupedErrors,HTTP,JSON\n",
    "using JLD2,DataFrames,AxisArrays,CSV,FileIO\n",
    "using PlotUtils, RecipesBase, StatPlots, StatsBase\n",
    "using LaTeXStrings, Measures, CSV\n",
    "\n",
    "#theme\n",
    "myPalette = [colorant\"#94a6fd\",\n",
    "             colorant\"#841ea4\",\n",
    "             colorant\"#69b7c5\",\n",
    "             colorant\"#085782\",\n",
    "             colorant\"#da73f8\",\n",
    "             colorant\"#21a645\",\n",
    "             colorant\"#285d28\",\n",
    "             colorant\"#9db46a\"]\n",
    "\n",
    "# Define some defaults for the plots            \n",
    "plotlyjs(palette=PlotThemes.expand_palette(colorant\"white\", myPalette; lchoices=linspace(57,57,1),\n",
    "        cchoices=linspace(100,100,1)),gridcolor=:gray40,axiscolor=:gray50,\n",
    "        textcolor=RGB(128/255,128/255,128/255),guidecolor=RGB(128/25,128/255,128/255),\n",
    "        guidefontfamily=\"DejaVu Sans\",guidefontsize=10,guidefontcolor=RGB(128/255,128/255,128/255) ,\n",
    "        tickfont = (\"DejaVu Sans\",10),legendfont=(\"DejaVu Sans\",10,RGB(128/255,128/255,128/255)),\n",
    "        foreground_color=RGB(128/255,128/255,128/255),background_color=RGBA(1.0,1.0,1.0,0.0))"
   ]
  },
  {
   "cell_type": "code",
   "execution_count": null,
   "metadata": {
    "collapsed": true
   },
   "outputs": [],
   "source": [
    "cd(\"..\")"
   ]
  },
  {
   "cell_type": "code",
   "execution_count": null,
   "metadata": {
    "collapsed": true
   },
   "outputs": [],
   "source": [
    "include(\"code/functions/plot-utilities.jl\")\n",
    "mkpath(\"plots\")"
   ]
  },
  {
   "cell_type": "markdown",
   "metadata": {},
   "source": [
    "### Load data \n",
    "We first get the links from the Open Science Framework API : "
   ]
  },
  {
   "cell_type": "code",
   "execution_count": null,
   "metadata": {},
   "outputs": [],
   "source": [
    "reqLabbook = HTTP.get(\"https://api.osf.io/v2/nodes/vsa3z/files/osfstorage/?filter[name]=labbookTable.jld2\")\n",
    "labbookLink = JSON.parse(\"$(Char.(reqLabbook.body)...)\")\n",
    "\n",
    "reqData = HTTP.get(\"https://api.osf.io/v2/nodes/vsa3z/files/osfstorage/?filter[name]=avgData.jld2\")\n",
    "rawLink = JSON.parse(\"$(Char.(reqData.body)...)\")\n",
    "\n",
    "reqInterp = HTTP.get(\"https://api.osf.io/v2/nodes/vsa3z/files/osfstorage/?filter[name]=interpolatedData.jld2\")\n",
    "interpLink = JSON.parse(\"$(Char.(reqInterp.body)...)\")\n",
    "\n",
    "reqTable = HTTP.get(\"https://api.osf.io/v2/nodes/vsa3z/files/osfstorage/?filter[name]=statTables.jld2\")\n",
    "tableLink = JSON.parse(\"$(Char.(reqTable.body)...)\")\n",
    "\n",
    "reqDrug = HTTP.get(\"https://api.osf.io/v2/nodes/vsa3z/files/osfstorage/?filter[name]=drugTables.jld2\")\n",
    "drugLink = JSON.parse(\"$(Char.(reqDrug.body)...)\")"
   ]
  },
  {
   "cell_type": "code",
   "execution_count": null,
   "metadata": {},
   "outputs": [],
   "source": [
    "labbook = load(download(labbookLink[\"data\"][1][\"links\"][\"download\"]),\"labbook\")\n",
    "avg_data_dict = load(download(rawLink[\"data\"][1][\"links\"][\"download\"]))\n",
    "interpData = load(download(interpLink[\"data\"][1][\"links\"][\"download\"]))"
   ]
  },
  {
   "cell_type": "code",
   "execution_count": null,
   "metadata": {},
   "outputs": [],
   "source": [
    "(uniqueTypesUsed,stats_per_pair_20,\n",
    "stats_per_run,stats_per_pair) = load(download(tableLink[\"data\"][1][\"links\"][\"download\"]),\"uniqueTypesUsed\"\n",
    "                                                        ,\"stats_per_pair_20\"\n",
    "                                                        ,\"stats_per_run\",\n",
    "                                                         \"stats_per_pair\");"
   ]
  },
  {
   "cell_type": "code",
   "execution_count": null,
   "metadata": {},
   "outputs": [],
   "source": [
    "(mecadf,picrodf) = load(download(drugLink[\"data\"][1][\"links\"][\"download\"]),\"mecadf\",\"picrodf\");"
   ]
  },
  {
   "cell_type": "code",
   "execution_count": null,
   "metadata": {},
   "outputs": [],
   "source": [
    "linesToType = CSV.read(\"LinesAndTypes.csv\",weakrefstrings=false)\n",
    "cellPairs = sort(unique(labbook[ismissing.(labbook[:TAGS]),:cellToCell]))\n",
    "genotypes = sort(unique(labbook[ismissing.(labbook[:TAGS]),:genotypeRegion]))"
   ]
  },
  {
   "cell_type": "code",
   "execution_count": null,
   "metadata": {
    "collapsed": true
   },
   "outputs": [],
   "source": [
    "mecadf[:shortPair] = \n",
    "linesToType[[findfirst(linesToType[Symbol(\"Type Description\")],pn) for \n",
    "            pn in mecadf[:preNeuron]],\n",
    "                Symbol(\"New Type Name\")].*\" to \".*linesToType[[findfirst(linesToType[Symbol(\"Type Description\")],pn) for pn in mecadf[:postNeuron]],Symbol(\"New Type Name\")]\n",
    "\n",
    "picrodf[:shortPair] = linesToType[[findfirst(linesToType[Symbol(\"Type Description\")],pn) for \n",
    "            pn in picrodf[:preNeuron]],\n",
    "    Symbol(\"New Type Name\")].*\" to \".*linesToType[[findfirst(linesToType[Symbol(\"Type Description\")],pn) for pn in picrodf[:postNeuron]],Symbol(\"New Type Name\")];"
   ]
  },
  {
   "cell_type": "markdown",
   "metadata": {},
   "source": [
    "## Response types figure (figure 3 of the paper)\n",
    "### Example traces"
   ]
  },
  {
   "cell_type": "code",
   "execution_count": null,
   "metadata": {},
   "outputs": [],
   "source": [
    "pairs_for_figureResp = Dict([(\"vi\",\"PB18.s-GxΔ7Gy.b-PB18.s-9i1i8c.b-to-PBG1-8.s-EBt.b-DV_GA.b\"),\n",
    "                          (\"v\",\"PB18.s-GxΔ7Gy.b-PB18.s-9i1i8c.b-to-PBG2-9.s-FBl1.b-NO3PM.b\"),\n",
    "                          (\"iv\",\"PBG1-8.b-EBw.s-DV_GA.b-to-PBG2-9.s-FBl3.b-NO2D.b\"),\n",
    "                          (\"iii\",\"LAL.s-GAi.s-NO1i.b-to-EBIRP I-O-LAL.s\"),\n",
    "                          (\"ii\",\"LAL.s-GAi.s-NO1i.b-to-PBG2-9.s-EBt.b-NO1.b.Type1\"),\n",
    "                          (\"i\",\"PBG1-7.s-FBl2.s-LAL.b-cre.b-to-SMP.s-LAL.s-LAL.b.contra\")\n",
    "                         ])"
   ]
  },
  {
   "cell_type": "code",
   "execution_count": null,
   "metadata": {},
   "outputs": [],
   "source": [
    "excPlot = make_raw_plot(select_data(pairs_for_figureResp[\"i\"],20,interpData,1:6,labbook),substract=true,\n",
    "    framestyle=:axes,axis=:y,link=:x)"
   ]
  },
  {
   "cell_type": "code",
   "execution_count": null,
   "metadata": {},
   "outputs": [],
   "source": [
    "inhPlot = make_raw_plot(select_data(pairs_for_figureResp[\"ii\"],20,interpData,1:6,labbook),scalebar=false,\n",
    "    framestyle=:axes,axis=:y,link=:x)"
   ]
  },
  {
   "cell_type": "code",
   "execution_count": null,
   "metadata": {},
   "outputs": [],
   "source": [
    "weakPlot = make_raw_plot(select_data(pairs_for_figureResp[\"iii\"],20,interpData,1:6,labbook),scaley=1.5,\n",
    "    substract=true,scalebar=false,framestyle=:axes,axis=:y,link=:x)"
   ]
  },
  {
   "cell_type": "code",
   "execution_count": null,
   "metadata": {},
   "outputs": [],
   "source": [
    "confPlot = make_raw_plot(select_data(pairs_for_figureResp[\"iv\"],20,interpData,1:6,labbook),\n",
    "    substract=true,scalebar=false,framestyle=:axes,axis=:y,link=:x)"
   ]
  },
  {
   "cell_type": "code",
   "execution_count": null,
   "metadata": {},
   "outputs": [],
   "source": [
    "reboundPlot = make_raw_plot(select_data(pairs_for_figureResp[\"v\"],20,interpData,1:6,labbook),substract=true,\n",
    "   scalebar=false,framestyle=:axes,axis=:y,link=:x,yticks=[0;1.5;3])"
   ]
  },
  {
   "cell_type": "code",
   "execution_count": null,
   "metadata": {},
   "outputs": [],
   "source": [
    "nothingPlot = make_raw_plot(select_data(pairs_for_figureResp[\"vi\"],20,interpData,1:6,labbook),substract=true,\n",
    "    scalebar=false,framestyle=:axes,axis=:y,link=:x)"
   ]
  },
  {
   "cell_type": "code",
   "execution_count": null,
   "metadata": {},
   "outputs": [],
   "source": [
    "figureResponseA = plot(excPlot,inhPlot,nothingPlot,weakPlot,confPlot,reboundPlot,layout = (2,3),\n",
    "        title = [\"A i\" \"ii\" \"iii\" \"B i\" \"ii\" \"iii\"],titleloc=:left,ylabel=[\"Fluorescence (ΔF/F₀)\" \"\" \"\" \"\" \"\" \"\" \"\"],top_margin=30mm\n",
    "    ,size = (1000,600),bottom_margin=Measures.Length(:mm,15.0),link=:x)"
   ]
  },
  {
   "cell_type": "markdown",
   "metadata": {},
   "source": [
    "### Responses distributions\n",
    "#### Panel D of the main figure"
   ]
  },
  {
   "cell_type": "code",
   "execution_count": null,
   "metadata": {},
   "outputs": [],
   "source": [
    "figureResponseDLayout = grid(2,2,widths=[0.9,0.1],heights=[0.1,0.9])\n",
    "figureResponseDLayout[1,2].attr[:blank]=true\n",
    "figureResponseD = plot(layout=figureResponseDLayout,size=(500,600),xlabel=\"\",ylabel=\"\",legend=false,titlepos=:left)\n",
    "\n",
    "makeStatHist!(stats_per_pair_20,figureResponseD,:between_runs_corr,subplot=1,grid=false,link=:x,axis=:x,ticks=nothing,top_margin=15mm,label=\"\",title=\"D\",color=[1 6 9])\n",
    "\n",
    "makeStatHist!(stats_per_pair_20,figureResponseD,:integNormScaled,subplot=3,orientation=:h,grid=false,axis=:y,ticks=nothing,ylim=(-1.05,1.05),xlim = (0,18),legend=(0.4,1.02),color=[1 6 9])\n",
    " \n",
    "@df stats_per_pair_20 scatter!(figureResponseD,:between_runs_corr,:integNormScaled,\n",
    "                               group=(:signif1,:expType),\n",
    "                               color=[1 6 1 6 9],\n",
    "                               msw=[0 0 1 1 1],msa=1,\n",
    "                               malpha=0.4,msc=:gray30,\n",
    "                               ylab=\"Scaled normalized integral\",xlab=\"Between-flies correlation\",\n",
    "                               hover=:cellPair,subplot=2,msize=6,ylim=(-1.05,1.05),link=:x\n",
    "                               ,label=[\"\" \"\" \"\" \"\" \"Significant response\"])"
   ]
  },
  {
   "cell_type": "markdown",
   "metadata": {},
   "source": [
    "#### SI figure : null sample responses"
   ]
  },
  {
   "cell_type": "code",
   "execution_count": null,
   "metadata": {
    "collapsed": true
   },
   "outputs": [],
   "source": [
    "null_pairs = convert(Array{String},unique(stats_per_run[stats_per_run[:expType].==\"Non overlapping\",:cellPair]))\n",
    "nullPlot = make_raw_plot(select_data(null_pairs,20,interpData,1:6,labbook),substract=true,scalebar=true,framestyle=:axes,axis=:y,colorV=:cellPair,traceW=1,right_margin=10mm,top_margin=10mm,label=\"\",lw=3,ylabel=\"Fluorescence (ΔF/F₀)\")"
   ]
  },
  {
   "cell_type": "markdown",
   "metadata": {},
   "source": [
    "#### SI figure : parameters distributions"
   ]
  },
  {
   "cell_type": "code",
   "execution_count": null,
   "metadata": {},
   "outputs": [],
   "source": [
    "fullNamesDF = DataFrame(integNorm = \"Normalized integral\", \n",
    "                        integNormScaled = \"Scaled normalized integral\",\n",
    "                        peakNorm = \"Normalized peak\",\n",
    "                        peakFluo = \"Peak fluorescence\",\n",
    "                        integ = \"Integral\",\n",
    "                        decay_time = \"Decay half time\",\n",
    "                        peakTime = \"Rise time\",\n",
    "                        repeats_corr = \"Repeat to repeat correlations\",\n",
    "                        between_runs_corr = \"Correlations between experiments\",\n",
    "                        state_dependence_integral = \"Integral to baseline correlation\",\n",
    "                        state_dependence = \"Distance to baseline correlation\",\n",
    "                        distance = \"Distance\",\n",
    "                        responding = \"Responding\");\n",
    " \n",
    "\n",
    "statHists = [makeStatHist(stats_per_pair_20,names(fullNamesDF)[1],color=[1 6 9]),[makeStatHist(stats_per_pair_20,s,label=\"\",color=[1 6 9]) for s in names(fullNamesDF)[2:10]]...]\n"
   ]
  },
  {
   "cell_type": "code",
   "execution_count": null,
   "metadata": {},
   "outputs": [],
   "source": [
    "statsHistsGridBig = plot(statHists...,layout=(5,2),size=(700,800),legend=(0.8,97),margin=5mm)"
   ]
  },
  {
   "cell_type": "markdown",
   "metadata": {},
   "source": [
    "## Response matrix"
   ]
  },
  {
   "cell_type": "code",
   "execution_count": null,
   "metadata": {},
   "outputs": [],
   "source": [
    "Is = remap(stats_per_pair_20[:preNeuron])\n",
    "Js = remap(stats_per_pair_20[:postNeuron])\n",
    "statsMatrices = Dict(\n",
    "\"distanceN\" => getMat(Is,Js,:distanceNorm)\n",
    ")\n",
    "\n",
    "matGuesses = transpose(full(sparse(Is, Js, stats_per_pair_20[:expType].==\"Overlapping\",\n",
    "        length(uniqueTypesUsed),length(uniqueTypesUsed))))"
   ]
  },
  {
   "cell_type": "code",
   "execution_count": null,
   "metadata": {},
   "outputs": [],
   "source": [
    "matDistance = \n",
    "makeMatrixPlot(\"distanceN\",size=(1100,1100),title=\"B\",title_location=:left,top_margin=5mm,\n",
    "          tickfontsize=9,legend=(0.1,0.2))"
   ]
  },
  {
   "cell_type": "markdown",
   "metadata": {},
   "source": [
    "## SI figure : baseline effects"
   ]
  },
  {
   "cell_type": "code",
   "execution_count": null,
   "metadata": {},
   "outputs": [],
   "source": [
    "baselineDists = @df stats_per_run[stats_per_run[:preDrug],:] boxplot(:cellPair,:baseline_median,\n",
    "    size=(800,300),ylims=(0,10),group=:expType,ylabel=\"Single run baseline\",\n",
    "                                                                     whisker_width=0.5,xticks=[],\n",
    "                                                                     linecolor=:gray50,markersize=2,alpha=0.8,malpha=0.6,\n",
    "                                                                     hover=:cellPair,legend=(0.35,0.92),color=[1 6 9])"
   ]
  },
  {
   "cell_type": "code",
   "execution_count": null,
   "metadata": {},
   "outputs": [],
   "source": [
    "baselineDistsSummary = @df stats_per_run[stats_per_run[:preDrug],:] violin(:expType,:baseline_median,\n",
    "    size=(350,300),ylabel=\"Single run baseline\",ylims=(0,10),legend=:none,color=\"gray80\",label=\"\")"
   ]
  },
  {
   "cell_type": "code",
   "execution_count": null,
   "metadata": {},
   "outputs": [],
   "source": [
    "stateDependenceSummary = @df stats_per_pair_20 boxplot(:globalSignif,\n",
    "    :state_dependence_integral,\n",
    "    size=(350,300),\n",
    "    ylabel=\"Baseline to integral correlation\",\n",
    "    whisker_width=0.5,\n",
    "    bar_width=0.7,\n",
    "    fillcolor=:gray80,\n",
    "    linecolor=:gray50,\n",
    "    xticks=([-1,0,1],[\"Inhibition\",\"Non significant\",\"Excitation\"]),\n",
    "    xlim=(-1.6,1.5),\n",
    "    legend=:none,label=\"\")"
   ]
  },
  {
   "cell_type": "code",
   "execution_count": null,
   "metadata": {},
   "outputs": [],
   "source": [
    "direct_pair = \"PBG1-7.s-FBl2.s-LAL.b-cre.b-to-PBG1-7.s-FBl2.s-LAL.b-cre.b\"\n",
    "colorsF = Dict(\"i\"=>6,\"ii\"=>6,\"iii\"=>6,\"iv\"=>9)\n",
    "ylimsF = Dict(\"i\"=>(0,5),\"ii\"=>(-1,0.2),\"iii\"=>(0,0.2),\"iv\"=>(0,6))\n",
    "\n",
    "figureExampleState = [@df select_data(pairs_for_figureResp[x],20,avg_data_dict,1:6,labbook,\n",
    "            stats_per_run\n",
    "            )[\"stats\"] scatter(:baseline_median,:integral_to_peak_median ,ylab=\"\",\n",
    "             mcolor = colorsF[x],\n",
    "            xlab=\"\",xlims=(0,),ylims=ylimsF[x],label=\"\") for x in [\"i\",\"ii\",\"iii\"]]\n",
    "\n",
    "push!(figureExampleState,\n",
    "      @df select_data(direct_pair,20,avg_data_dict,1:6,\n",
    "            labbook,stats_per_run)[\"stats\"] scatter(:baseline_median,\n",
    "        :integral_to_peak_median ,xlab=\"\",ylab=\"\",mcolor = colorsF[\"iv\"]\n",
    "                                                    ,xlims=(0,1.7),label=\"\"))\n",
    "\n",
    "plot(figureExampleState...,layout=(1,4),legend=false,msw=0,\n",
    "    ylab=[\"Integral to peak\" \"\" \"\" \"\"],\n",
    "    xlab=\"Baseline value\",\n",
    "    title=[\"i\" \"ii\" \"iii\" \"iv\"],titleloc=:left,xrotation=45)"
   ]
  },
  {
   "cell_type": "code",
   "execution_count": null,
   "metadata": {},
   "outputs": [],
   "source": [
    "l=@layout [a\n",
    "           b c\n",
    "           d e f g]\n",
    "baselineSIFig = plot(baselineDists,baselineDistsSummary,stateDependenceSummary,figureExampleState...,layout=l,size=(800,900),\n",
    "    top_margin=5mm,bottom_margin=7mm,title=[\"A\" \"B\" \"C\" \"Di\" \"ii\" \"iii\" \"iv\"],titleloc=:left,legend=(0.35,0.97))"
   ]
  },
  {
   "cell_type": "markdown",
   "metadata": {},
   "source": [
    "## SI figure : dose response plot"
   ]
  },
  {
   "cell_type": "code",
   "execution_count": null,
   "metadata": {},
   "outputs": [],
   "source": [
    "doseRespPlot = @> stats_per_pair begin \n",
    "    @splitby (_.signif20,_.cellPair)\n",
    "    @x _.nPulses_median\n",
    "    @y _.integNormScaled\n",
    "    @set_attr :color _[1] == 1 ? :darkred : _[1]==0 ? :gray70 : :darkblue\n",
    "    @set_attr :hover _[2]\n",
    "    @plot plot(label=\"\",linealpha=0.3,line=:line,size=(400,500),ylabel=\"Scaled normalized response integral\",\n",
    "        xlabel=\"Number of stimulation pulses\",xticks=[1;5;10;20;30],xlims=(0,31))\n",
    "end\n",
    "\n",
    "@> stats_per_pair begin \n",
    "    @splitby _.signif20\n",
    "    @across _.nPulses_median\n",
    "    @x _.nPulses_median\n",
    "    @y _.integNormScaled (mean,sem)\n",
    "    @plot plot!(doseRespPlot,lw=4,color=[:darkblue :gray70 :darkred],legend=(0.15,0.97),\n",
    "        label=[\"Excitatory responses\" \"No responses\" \"Inhibitory responses\"])\n",
    "end"
   ]
  },
  {
   "cell_type": "markdown",
   "metadata": {},
   "source": [
    "## SI figure : drug application effects"
   ]
  },
  {
   "cell_type": "markdown",
   "metadata": {},
   "source": [
    "### Mecamylamine"
   ]
  },
  {
   "cell_type": "code",
   "execution_count": null,
   "metadata": {},
   "outputs": [],
   "source": [
    "mecaISP = [makePairDrugPlots(mecadf,cp) for cp in sort(unique(mecadf[mecadf[:preNeuron].==\"PBG2-9.b-IB.s.SPS.s\" ,:cellPair]))]\n",
    "\n",
    "mecaColu = [makePairDrugPlots(mecadf,cp) for cp in sort(unique(mecadf[(mecadf[:preNeuron].==\"PBG2-9.s-EBt.b-NO1.b.Type1\").| (mecadf[:preNeuron].==\"PBG1-7.s-FBl2.s-LAL.b-cre.b\") .| (mecadf[:preNeuron].==\"PBG1-8.b-EBw.s-DV_GA.b\") .| (mecadf[:preNeuron].==\"PBG1-8.s-EBt.b-DV_GA.b\"),:cellPair]))]\n",
    "\n",
    "mecaOthers = [makePairDrugPlots(mecadf,cp) for cp in sort(unique(mecadf[(mecadf[:preNeuron].==\"EB.w-AMP.d-D_GAsurround\").| (mecadf[:preNeuron].==\"PB18.s-GxΔ7Gy.b-PB18.s-9i1i8c.b\") ,:cellPair]))]\n",
    "\n",
    "mecaOthers[1].subplots[2].series_list[1][:label] = \"Control\"\n",
    "mecaOthers[1].subplots[2].series_list[2][:label] = \"Mecamylamine\"\n",
    "mecaOthers[1].subplots[2].series_list[3][:label] = \"Wash\""
   ]
  },
  {
   "cell_type": "code",
   "execution_count": null,
   "metadata": {},
   "outputs": [],
   "source": [
    "mecaLayout = @layout [a{0.01h}\n",
    "                      grid(5,2){0.6h}\n",
    "                      b{0.01h}\n",
    "                      grid(2,2){0.24h}\n",
    "                      c{.01h}\n",
    "                      grid(1,2){0.13h}]\n",
    "\n",
    "mecaPlots = plot(plot(title=\"A\",title_location=:left,framestyle=:none),\n",
    "                 mecaColu...,\n",
    "                 plot(title=\"B\",title_location=:left,framestyle=:none),\n",
    "                 mecaISP...,plot(),\n",
    "                 plot(title=\"C\",title_location=:left,framestyle=:none),\n",
    "                 mecaOthers...,\n",
    "                 layout=mecaLayout,size=(800,1700),legend=(0.75,0.2))\n"
   ]
  },
  {
   "cell_type": "markdown",
   "metadata": {},
   "source": [
    "### Picrotoxin"
   ]
  },
  {
   "cell_type": "code",
   "execution_count": null,
   "metadata": {},
   "outputs": [],
   "source": [
    "picroInhib = [makePairDrugPlots(picrodf,cp) for cp in [\"EBIRP I-O-LAL.s-to-PBG1-8.b-EBw.s-DV_GA.b\",\"EBORP O-I-GA-Bulb-to-PBG1-8.b-EBw.s-DV_GA.b\",\"LAL.s-GAi.s-NO1i.b-to-PBG2-9.s-EBt.b-NO1.b.Type1\",\"LAL.s-GAi.s-NO1i.b-to-PBG2-9.s-EBt.b-NO1.b.Type2\",\"PB18.s-GxΔ7Gy.b-PB18.s-9i1i8c.b-to-PBG2-9.s-FBl3.b-NO2V.b\"]]\n",
    "\n",
    "picroControl = [makePairDrugPlots(picrodf,cp) for cp in [\"PBG1-8.b-EBw.s-DV_GA.b-to-PBG2-9.s-EBt.b-NO1.b.Type1\",\"PBG1-8.b-EBw.s-DV_GA.b-to-PBG2-9.s-FBl1.b-NO3PM.b\",\"PBG1-8.b-EBw.s-DV_GA.b-to-PBG2-9.b-IB.s.SPS.s\",\"PBG2-9.b-IB.s.SPS.s-to-PBG2-9.s-EBt.b-NO1.b.Type1\",\"PBG2-9.b-IB.s.SPS.s-to-PBG1-8.b-EBw.s-DV_GA.b\"    ,\"PBG2-9.b-IB.s.SPS.s-to-PB18.s-GxΔ7Gy.b-PB18.s-9i1i8c.b\" ,\"PB18.s-GxΔ7Gy.b-PB18.s-9i1i8c.b-to-PBG2-9.s-EBt.b-NO1.b.Type2\",\"EB.w-AMP.d-D_GAsurround-to-PBG1-8.b-EBw.s-DV_GA.b\"]]\n",
    "\n",
    "picroInhib[1].subplots[2].series_list[1][:label] = \"Control\"\n",
    "picroInhib[1].subplots[2].series_list[2][:label] = \"Picrotoxin\"\n",
    "picroInhib[1].subplots[2].series_list[3][:label] = \"Wash\""
   ]
  },
  {
   "cell_type": "code",
   "execution_count": null,
   "metadata": {},
   "outputs": [],
   "source": [
    "picroLayout = @layout [a{0.01h}\n",
    "                       grid(3,2){0.42h}\n",
    "                       b{0.01h}\n",
    "                       grid(4,2){0.56h}]\n",
    "\n",
    "picroPlots = plot(plot(title=\"A\",title_location=:left,framestyle=:none),\n",
    "                  picroInhib...,plot(),\n",
    "                  plot(title=\"B\",title_location=:left,framestyle=:none),\n",
    "                  picroControl...,\n",
    "                  layout=picroLayout,size=(800,1500),legend=(0.75,0.6)\n",
    "                  )"
   ]
  },
  {
   "cell_type": "markdown",
   "metadata": {},
   "source": [
    "## SI figure : delta7 figure"
   ]
  },
  {
   "cell_type": "code",
   "execution_count": null,
   "metadata": {},
   "outputs": [],
   "source": [
    "inhibPair = \"PB18.s-GxΔ7Gy.b-PB18.s-9i1i8c.b-to-PBG2-9.s-FBl3.b-NO2V.b\"\n",
    "excitPair = \"PB18.s-GxΔ7Gy.b-PB18.s-9i1i8c.b-to-PBG2-9.s-EBt.b-NO1.b.Type1\"\n",
    "mixedPair = \"PB18.s-GxΔ7Gy.b-PB18.s-9i1i8c.b-to-PBG1-8.b-EBw.s-DV_GA.b\""
   ]
  },
  {
   "cell_type": "code",
   "execution_count": null,
   "metadata": {},
   "outputs": [],
   "source": [
    "deltaInhib = make_raw_plot(select_data(inhibPair,20,\n",
    "                                       #avg_data_dict\n",
    "                                       interpData,1:6,labbook),scalebar=false,substract=false,\n",
    "    substract=false,xlabel = \"Time (seconds)\", ylabel = \"Fluorescence (ΔF/F₀)\", title = \"A\",titleloc=:left,right_margin=3mm)"
   ]
  },
  {
   "cell_type": "code",
   "execution_count": null,
   "metadata": {},
   "outputs": [],
   "source": [
    "deltaExcit = make_raw_plot(select_data(excitPair,20,interpData,1:6,labbook),\n",
    "    scalebar=false,substract=false,xlabel = \"Time (seconds)\", \n",
    "    ylabel = \"Fluorescence (ΔF/F₀)\", title = \"B\",titleloc=:left,right_margin=3mm)\n"
   ]
  },
  {
   "cell_type": "code",
   "execution_count": null,
   "metadata": {},
   "outputs": [],
   "source": [
    "deltaMixed = [make_raw_plot(select_data(mixedPair,p,interpData,1:6,labbook),\n",
    "        scalebar=false,substract=false,np=p) for p in [5,10,20,30]]"
   ]
  },
  {
   "cell_type": "code",
   "execution_count": null,
   "metadata": {},
   "outputs": [],
   "source": [
    "deltaMixedP = plot(deltaMixed...,layout=(1,4),size=(1500,500),title=[\"C i\" \"ii\" \"iii\" \"iv\"],titleloc=:left,\n",
    "    ylabel=[\"Fluorescence (ΔF/F₀)\" \"\" \"\" \"\"],xlabel=[\"\" \"\" \"\" \"Time (seconds)\"],right_margin=3mm,left_margin=3mm)"
   ]
  },
  {
   "cell_type": "code",
   "execution_count": null,
   "metadata": {},
   "outputs": [],
   "source": [
    "deltaL = @layout [g h\n",
    "                  z]\n",
    "deltaFig = plot(deltaInhib,deltaExcit,deltaMixedP,layout=deltaL,size=(800,800),\n",
    "    bottom_margin=7mm,top_margin=5mm)"
   ]
  }
 ],
 "metadata": {
  "kernelspec": {
   "display_name": "Julia 0.6.2",
   "language": "julia",
   "name": "julia-0.6"
  },
  "language_info": {
   "file_extension": ".jl",
   "mimetype": "application/julia",
   "name": "julia",
   "version": "0.6.2"
  }
 },
 "nbformat": 4,
 "nbformat_minor": 2
}
