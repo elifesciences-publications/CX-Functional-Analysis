{
 "cells": [
  {
   "cell_type": "markdown",
   "metadata": {},
   "source": [
    "# Functional connectivity : raw analysis\n",
    "\n",
    "This notebook demonstrates the analysis steps used to generate the fluorescence traces from the raw movies. Briefly, the script :\n",
    "- reads the data and metadata from Prairie microscopy files corresponding to a given fly\n",
    "- corrects movement drifts between successive runs\n",
    "- detects regions of interests\n",
    "- compute the fluorescence traces and convert them to &#916;F/F<sub>0</sub> (with a global F<sub>0</sub>) for the all experiment.\n",
    "\n",
    "\n",
    "For production analysis, we used the script `functionalConnectivityRaw.jl` (in the `code` folder), which loops those steps for all the experiments, from the command line, as : \n",
    "```bash\n",
    "julia -p X functionalConnectivityRaw.jl pathToData\n",
    "```\n",
    " from the `CX-Functional-Analysis folder`, where X is the number of processes we used (some steps of the analysis benefit from parallelization). This requires to have downloaded and unzipped the data locally (in the `pathToData` folder)."
   ]
  },
  {
   "cell_type": "markdown",
   "metadata": {},
   "source": [
    "### Preparing the environment\n",
    "\n",
    "#### Define some variables, set working directory"
   ]
  },
  {
   "cell_type": "code",
   "execution_count": 1,
   "metadata": {
    "collapsed": true
   },
   "outputs": [],
   "source": [
    "cd(\"..\")                             ## We run everything from the CX-Functional-Analysis folder"
   ]
  },
  {
   "cell_type": "code",
   "execution_count": 63,
   "metadata": {},
   "outputs": [
    {
     "data": {
      "text/plain": [
       "\"example-raw-data2\""
      ]
     },
     "execution_count": 63,
     "metadata": {},
     "output_type": "execute_result"
    }
   ],
   "source": [
    "tablePath = \"labbookTable.csv\"       ## Path to the labbook table\n",
    "linesTable = \"LinesAndTypes.csv\"\n",
    "baseDataFolder = \"example-raw-data\"  ## Where we will store the data"
   ]
  },
  {
   "cell_type": "code",
   "execution_count": 62,
   "metadata": {},
   "outputs": [
    {
     "data": {
      "text/plain": [
       "`archivemount example-raw-data2/feb1916.zip example-raw-data2`"
      ]
     },
     "execution_count": 62,
     "metadata": {},
     "output_type": "execute_result"
    }
   ],
   "source": [
    "`archivemount example-raw-data /feb1916.zip example-raw-data2`"
   ]
  },
  {
   "cell_type": "markdown",
   "metadata": {},
   "source": [
    "#### Loading packages and convenience functions"
   ]
  },
  {
   "cell_type": "code",
   "execution_count": 9,
   "metadata": {},
   "outputs": [
    {
     "data": {
      "text/plain": [
       "kMeansIm (generic function with 1 method)"
      ]
     },
     "execution_count": 9,
     "metadata": {},
     "output_type": "execute_result"
    }
   ],
   "source": [
    "using DataFrames,CSV                 \n",
    "using Images\n",
    "using FileIO,ImageMagick\n",
    "using subpixelRegistration\n",
    "using FluorescentSeries             \n",
    "using PrairieIO                     \n",
    "using Clustering   \n",
    "\n",
    "include(\"code/functions/PrairieLabbook.jl\")\n",
    "include(\"code/functions/imageUtilities.jl\")"
   ]
  },
  {
   "cell_type": "markdown",
   "metadata": {},
   "source": [
    "#### Note on example data\n",
    "\n",
    "The github repository this notebook comes from contains a small example data folder we're using here. If you're running this notebook locally (as opposed as from Binder), you can download the full dataset from the OpenScienceFramework [repository](https://osf.io/vsa3z/) associated with the paper."
   ]
  },
  {
   "cell_type": "markdown",
   "metadata": {},
   "source": [
    "### Load the labbook, pick fly to analyze"
   ]
  },
  {
   "cell_type": "markdown",
   "metadata": {},
   "source": [
    "#### linesToType contains the table listing information on the drivers"
   ]
  },
  {
   "cell_type": "code",
   "execution_count": 4,
   "metadata": {},
   "outputs": [
    {
     "data": {
      "text/html": [
       "<table class=\"data-frame\"><thead><tr><th></th><th>Line</th><th>Wolff Type Name</th><th>New Type Name</th><th>Type Description</th><th>Supertype</th><th>Pre regions</th><th>Post regions</th><th>Pre regions fine</th><th>Post regions fine</th></tr></thead><tbody><tr><th>1</th><td>87G07</td><td>4</td><td>P-F3N2d</td><td>PBG2-9.s-FBl3.b-NO2D.b</td><td>FB columnar</td><td>FB,NO</td><td>PB,NO</td><td>FB3,NO2</td><td>PB2,PB3,PB4,PB5,PB6,PB7,PB8,PB9,NO2</td></tr><tr><th>2</th><td>85H06</td><td>1-2</td><td>P-F1N3</td><td>PBG2-9.s-FBl1.b-NO3PM.b</td><td>FB columnar</td><td>FB,NO</td><td>PB,NO</td><td>FB1,NO3</td><td>PB2,PB3,PB4,PB5,PB6,PB7,PB8,PB9,NO3</td></tr><tr><th>3</th><td>60D05</td><td>8</td><td>E-PG</td><td>PBG1-8.b-EBw.s-DV_GA.b</td><td>EB columnar</td><td>PB,GA</td><td>EB</td><td>PB1,PB2,PB3,PB4,PB5,PB6,PB7,PB8,GA</td><td>EB</td></tr><tr><th>4</th><td>SS02191</td><td>7</td><td>P-EG</td><td>PBG1-8.s-EBt.b-DV_GA.b</td><td>EB columnar</td><td>GA,EB</td><td>PB,EB</td><td>GA,EB</td><td>PB1,PB2,PB3,PB4,PB5,PB6,PB7,PB8,EB</td></tr><tr><th>5</th><td>67D09</td><td>5</td><td>P-F3N2v</td><td>PBG2-9.s-FBl3.b-NO2V.b</td><td>FB columnar</td><td>FB,NO</td><td>PB,NO</td><td>FB3,NO2</td><td>PB2,PB3,PB4,PB5,PB6,PB7,PB8,PB9,NO2</td></tr><tr><th>6</th><td>67D09-attP5</td><td>5</td><td>P-F3N2v</td><td>PBG2-9.s-FBl3.b-NO2V.b</td><td>FB columnar</td><td>FB,NO</td><td>PB,NO</td><td>FB3,NO2</td><td>PB2,PB3,PB4,PB5,PB6,PB7,PB8,PB9,NO2</td></tr><tr><th>7</th><td>67D09-VK22</td><td>5</td><td>P-F3N2v</td><td>PBG2-9.s-FBl3.b-NO2V.b</td><td>FB columnar</td><td>FB,NO</td><td>PB,NO</td><td>FB3,NO2</td><td>PB2,PB3,PB4,PB5,PB6,PB7,PB8,PB9,NO2</td></tr><tr><th>8</th><td>37F06</td><td>6</td><td>P-EN1</td><td>PBG2-9.s-EBt.b-NO1.b.Type1</td><td>EB columnar</td><td>EB,NO</td><td>PB,EB,NO</td><td>EB,NO1</td><td>PB2,PB3,PB4,PB5,PB6,PB7,PB8,PB9,EB,NO1</td></tr><tr><th>9</th><td>37F06-VK22</td><td>6</td><td>P-EN1</td><td>PBG2-9.s-EBt.b-NO1.b.Type1</td><td>EB columnar</td><td>EB,NO</td><td>PB,EB,NO</td><td>EB,NO1</td><td>PB2,PB3,PB4,PB5,PB6,PB7,PB8,PB9,EB,NO1</td></tr><tr><th>10</th><td>VT008135</td><td>6</td><td>P-EN1</td><td>PBG2-9.s-EBt.b-NO1.b.Type1</td><td>EB columnar</td><td>EB,NO</td><td>PB,EB,NO</td><td>EB,NO1</td><td>PB2,PB3,PB4,PB5,PB6,PB7,PB8,PB9,EB,NO1</td></tr><tr><th>11</th><td>SS02232</td><td>6</td><td>P-EN2</td><td>PBG2-9.s-EBt.b-NO1.b.Type2</td><td>EB columnar</td><td>EB,NO</td><td>PB,EB,NO</td><td>EB,NO1</td><td>PB2,PB3,PB4,PB5,PB6,PB7,PB8,PB9,EB,NO1</td></tr><tr><th>12</th><td>84H05</td><td>12</td><td>PF-LCre</td><td>PBG1-7.s-FBl2.s-LAL.b-cre.b</td><td>FB columnar</td><td>LAL,cre</td><td>PB,FB</td><td>LAL1,cre</td><td>PB1,PB2,PB3,PB4,PB5,PB6,PB7,FB2</td></tr><tr><th>13</th><td>84H05-VK22</td><td>12</td><td>PF-LCre</td><td>PBG1-7.s-FBl2.s-LAL.b-cre.b</td><td>FB columnar</td><td>LAL,cre</td><td>PB,FB</td><td>LAL1,cre</td><td>PB1,PB2,PB3,PB4,PB5,PB6,PB7,FB2</td></tr><tr><th>14</th><td>84H05-attP5</td><td>12</td><td>PF-LCre</td><td>PBG1-7.s-FBl2.s-LAL.b-cre.b</td><td>FB columnar</td><td>LAL,cre</td><td>PB,FB</td><td>LAL1,cre</td><td>PB1,PB2,PB3,PB4,PB5,PB6,PB7,FB2</td></tr><tr><th>15</th><td>55G08</td><td>15</td><td>Delta7</td><td>PB18.s-GxΔ7Gy.b-PB18.s-9i1i8c.b</td><td>PB interneuron</td><td>PB</td><td>PB</td><td>PB1,PB2,PB3,PB4,PB5,PB6,PB7,PB8</td><td>PB1,PB2,PB3,PB4,PB5,PB6,PB7,PB8</td></tr><tr><th>16</th><td>55G08-attP5</td><td>15</td><td>Delta7</td><td>PB18.s-GxΔ7Gy.b-PB18.s-9i1i8c.b</td><td>PB interneuron</td><td>PB</td><td>PB</td><td>PB1,PB2,PB3,PB4,PB5,PB6,PB7,PB8</td><td>PB1,PB2,PB3,PB4,PB5,PB6,PB7,PB8</td></tr><tr><th>17</th><td>55G08-VK22</td><td>15</td><td>Delta7</td><td>PB18.s-GxΔ7Gy.b-PB18.s-9i1i8c.b</td><td>PB interneuron</td><td>PB</td><td>PB</td><td>PB1,PB2,PB3,PB4,PB5,PB6,PB7,PB8</td><td>PB1,PB2,PB3,PB4,PB5,PB6,PB7,PB8</td></tr><tr><th>18</th><td>47G08</td><td>17</td><td>IS-P</td><td>PBG2-9.b-IB.s.SPS.s</td><td>PB input</td><td>PB</td><td>IB,SPS</td><td>PB2,PB3,PB4,PB5,PB6,PB7,PB8,PB9</td><td>IB,SPS</td></tr><tr><th>19</th><td>49H05</td><td>missing</td><td>IMPL-F</td><td>LAL.s-IMP-FBl3.b</td><td>FB input</td><td>FB</td><td>LAL</td><td>FB3</td><td>LAL1</td></tr><tr><th>20</th><td>75H04</td><td>missing</td><td>L-Ei</td><td>EBIRP I-O-LAL.s</td><td>Ring neuron</td><td>EB</td><td>LAL</td><td>EB</td><td>LAL1</td></tr><tr><th>21</th><td>32A11</td><td>missing</td><td>L-Em</td><td>EBMRP I-O-LAL.s</td><td>Ring neuron</td><td>EB</td><td>LAL</td><td>EB</td><td>LAL1</td></tr><tr><th>22</th><td>18A05</td><td>missing</td><td>GB-Eo</td><td>EBORP O-I-GA-Bulb</td><td>Ring neuron</td><td>EB</td><td>GA,BU</td><td>EB</td><td>GA,BU</td></tr><tr><th>23</th><td>18A05-VK22</td><td>missing</td><td>GB-Eo</td><td>EBORP O-I-GA-Bulb</td><td>Ring neuron</td><td>EB</td><td>GA,BU</td><td>EB</td><td>GA,BU</td></tr><tr><th>24</th><td>17H12</td><td>missing</td><td>AMPG-E</td><td>EB.w-AMP.d-D_GAsurround</td><td>EB input</td><td>EB</td><td>GA</td><td>EB</td><td>GA</td></tr><tr><th>25</th><td>12C11</td><td>missing</td><td>EFBG</td><td>EBMRA-FB-LT-LT-GA-GA</td><td>Other</td><td>Unknown</td><td>Unknown</td><td>X</td><td>X</td></tr><tr><th>26</th><td>72H06</td><td>missing</td><td>SMPL-L</td><td>SMP.s-LAL.s-LAL.b.contra</td><td>LAL-IN</td><td>LAL</td><td>LAL,SMP</td><td>LAL2</td><td>LAL1,SMP</td></tr><tr><th>27</th><td>72H06-attP5</td><td>missing</td><td>SMPL-L</td><td>SMP.s-LAL.s-LAL.b.contra</td><td>LAL-IN</td><td>LAL</td><td>LAL,SMP</td><td>LAL2</td><td>LAL1,SMP</td></tr><tr><th>28</th><td>72H06-VK22</td><td>missing</td><td>SMPL-L</td><td>SMP.s-LAL.s-LAL.b.contra</td><td>LAL-IN</td><td>LAL</td><td>LAL,SMP</td><td>LAL2</td><td>LAL1,SMP</td></tr><tr><th>29</th><td>SS02615</td><td>missing</td><td>SMPL-L2</td><td>SMP.s-LAL.s-LAL.b.contra2</td><td>LAL-IN</td><td>LAL</td><td>LAL,SMP</td><td>LAL2</td><td>LAL1,SMP</td></tr><tr><th>30</th><td>26B07</td><td>missing</td><td>WL-L</td><td>Wedge-LAL.s-LAL.b.contra</td><td>LAL-IN</td><td>LAL,Wedge</td><td>LAL,Wedge</td><td>LAL1,Wedge</td><td>LAL1,Wedge</td></tr><tr><th>&vellip;</th><td>&vellip;</td><td>&vellip;</td><td>&vellip;</td><td>&vellip;</td><td>&vellip;</td><td>&vellip;</td><td>&vellip;</td><td>&vellip;</td><td>&vellip;</td></tr></tbody></table>"
      ],
      "text/plain": [
       "37×9 DataFrames.DataFrame. Omitted printing of 6 columns\n",
       "│ Row │ Line        │ Wolff Type Name │ New Type Name │\n",
       "├─────┼─────────────┼─────────────────┼───────────────┤\n",
       "│ 1   │ 87G07       │ 4               │ P-F3N2d       │\n",
       "│ 2   │ 85H06       │ 1-2             │ P-F1N3        │\n",
       "│ 3   │ 60D05       │ 8               │ E-PG          │\n",
       "│ 4   │ SS02191     │ 7               │ P-EG          │\n",
       "│ 5   │ 67D09       │ 5               │ P-F3N2v       │\n",
       "│ 6   │ 67D09-attP5 │ 5               │ P-F3N2v       │\n",
       "│ 7   │ 67D09-VK22  │ 5               │ P-F3N2v       │\n",
       "│ 8   │ 37F06       │ 6               │ P-EN1         │\n",
       "│ 9   │ 37F06-VK22  │ 6               │ P-EN1         │\n",
       "│ 10  │ VT008135    │ 6               │ P-EN1         │\n",
       "│ 11  │ SS02232     │ 6               │ P-EN2         │\n",
       "⋮\n",
       "│ 26  │ 72H06       │ \u001b[90mmissing\u001b[39m         │ SMPL-L        │\n",
       "│ 27  │ 72H06-attP5 │ \u001b[90mmissing\u001b[39m         │ SMPL-L        │\n",
       "│ 28  │ 72H06-VK22  │ \u001b[90mmissing\u001b[39m         │ SMPL-L        │\n",
       "│ 29  │ SS02615     │ \u001b[90mmissing\u001b[39m         │ SMPL-L2       │\n",
       "│ 30  │ 26B07       │ \u001b[90mmissing\u001b[39m         │ WL-L          │\n",
       "│ 31  │ 31A11       │ \u001b[90mmissing\u001b[39m         │ L-Cre         │\n",
       "│ 32  │ SS00153     │ \u001b[90mmissing\u001b[39m         │ S-P           │\n",
       "│ 33  │ 76E11       │ \u001b[90mmissing\u001b[39m         │ GL-N1         │\n",
       "│ 34  │ 76E11-VK22  │ \u001b[90mmissing\u001b[39m         │ GL-N1         │\n",
       "│ 35  │ SS04448     │ \u001b[90mmissing\u001b[39m         │ GL-N1         │\n",
       "│ 36  │ SS04420     │ \u001b[90mmissing\u001b[39m         │ CreL-N2       │\n",
       "│ 37  │ 12G04       │ \u001b[90mmissing\u001b[39m         │ L-N3          │"
      ]
     },
     "execution_count": 4,
     "metadata": {},
     "output_type": "execute_result"
    }
   ],
   "source": [
    "linesToType = CSV.read(linesTable)"
   ]
  },
  {
   "cell_type": "markdown",
   "metadata": {},
   "source": [
    "#### Labbook\n",
    "The labbook is stored as a ```csv``` file. ```readLabbook``` (defined in ```functions\\PrairieLabbook.jl```) reads that file reformats it and adds some information to it. It also select the lines corresponding to a set of experiments (defined as ```expDay```) a returns the subset of the full labbook corresponding to those in ```subTab```."
   ]
  },
  {
   "cell_type": "code",
   "execution_count": 5,
   "metadata": {},
   "outputs": [
    {
     "data": {
      "text/html": [
       "<table class=\"data-frame\"><thead><tr><th></th><th>ITEM</th><th>Sex</th><th>ActivatorExp</th><th>ReporterExp</th><th>LexA</th><th>Gal4</th><th>ReporterSite</th><th>ActivatorSite</th><th>Days</th><th>Runs</th><th>Stack</th><th>Drug</th><th>DrugTime</th><th>DrugConc</th><th>DrugRuns</th><th>TAGS</th><th>TIMESTAMP</th><th>folderName</th><th>Region</th><th>RegionRuns</th><th>genotype</th><th>genotypeRegion</th><th>genotypePre</th><th>genotypePost</th><th>driverPre</th><th>driverPost</th><th>cellPre</th><th>cellPost</th><th>cellToCell</th><th>flyN</th><th>keyEntry</th></tr></thead><tbody><tr><th>1</th><td>*** 60D05 Chrimson - 55G08L GCamp6m</td><td>Female</td><td>Gal4</td><td>LexA</td><td>55G08</td><td>60D05</td><td>attP1</td><td>VK5</td><td>7</td><td>[13, 14, 15, 16, 17, 18]</td><td>3</td><td>missing</td><td>missing</td><td>missing</td><td>missing</td><td>missing</td><td>2016-02-19</td><td>feb1916</td><td>PB-in</td><td>13:18</td><td>55G08LexA-60D05Gal4-Chrimson-in-Gal4</td><td>55G08LexA-60D05Gal4-Chrimson-in-Gal4-PB-in</td><td>60D05Gal4</td><td>55G08LexA</td><td>60D05</td><td>55G08</td><td>PBG1-8.b-EBw.s-DV_GA.b</td><td>PB18.s-GxΔ7Gy.b-PB18.s-9i1i8c.b</td><td>PBG1-8.b-EBw.s-DV_GA.b-to-PB18.s-GxΔ7Gy.b-PB18.s-9i1i8c.b</td><td>1</td><td>feb1916-Fly1-PB-in</td></tr><tr><th>2</th><td>*** 84H05L Chrimson - 72H06 GCamp6m</td><td>Female</td><td>LexA</td><td>Gal4</td><td>84H05</td><td>72H06</td><td>attP1</td><td>VK5</td><td>7</td><td>[7, 8, 9, 10, 11, 12]</td><td>2</td><td>missing</td><td>missing</td><td>missing</td><td>missing</td><td>missing</td><td>2016-02-19</td><td>feb1916</td><td>LAL</td><td>7:12</td><td>84H05LexA-72H06Gal4-Chrimson-in-LexA</td><td>84H05LexA-72H06Gal4-Chrimson-in-LexA-LAL</td><td>84H05LexA</td><td>72H06Gal4</td><td>84H05</td><td>72H06</td><td>PBG1-7.s-FBl2.s-LAL.b-cre.b</td><td>SMP.s-LAL.s-LAL.b.contra</td><td>PBG1-7.s-FBl2.s-LAL.b-cre.b-to-SMP.s-LAL.s-LAL.b.contra</td><td>2</td><td>feb1916-Fly2-LAL</td></tr><tr><th>3</th><td>*** 84H05L Chrimson - 72H06 GCamp6m</td><td>Female</td><td>LexA</td><td>Gal4</td><td>84H05</td><td>72H06</td><td>attP1</td><td>VK5</td><td>7</td><td>[1, 2, 3, 4, 5, 6]</td><td>1</td><td>missing</td><td>missing</td><td>missing</td><td>missing</td><td>missing</td><td>2016-02-19</td><td>feb1916</td><td>LAL</td><td>1:6</td><td>84H05LexA-72H06Gal4-Chrimson-in-LexA</td><td>84H05LexA-72H06Gal4-Chrimson-in-LexA-LAL</td><td>84H05LexA</td><td>72H06Gal4</td><td>84H05</td><td>72H06</td><td>PBG1-7.s-FBl2.s-LAL.b-cre.b</td><td>SMP.s-LAL.s-LAL.b.contra</td><td>PBG1-7.s-FBl2.s-LAL.b-cre.b-to-SMP.s-LAL.s-LAL.b.contra</td><td>3</td><td>feb1916-Fly3-LAL</td></tr></tbody></table>"
      ],
      "text/plain": [
       "3×31 DataFrames.DataFrame. Omitted printing of 28 columns\n",
       "│ Row │ ITEM                                │ Sex    │ ActivatorExp │\n",
       "├─────┼─────────────────────────────────────┼────────┼──────────────┤\n",
       "│ 1   │ *** 60D05 Chrimson - 55G08L GCamp6m │ Female │ Gal4         │\n",
       "│ 2   │ *** 84H05L Chrimson - 72H06 GCamp6m │ Female │ LexA         │\n",
       "│ 3   │ *** 84H05L Chrimson - 72H06 GCamp6m │ Female │ LexA         │"
      ]
     },
     "execution_count": 5,
     "metadata": {},
     "output_type": "execute_result"
    }
   ],
   "source": [
    "(mainTab,subTab) = readLabbook(tablePath,linesToType,expDay=[\"feb1916\"]);\n",
    "subTab"
   ]
  },
  {
   "cell_type": "markdown",
   "metadata": {},
   "source": [
    "#### Prairie file metadata\n",
    "We select the one line of the labbook that is present in the github repo. After that, function ```makeFlyDict``` extracts relevant metadata from the corresponding files in an array of dictionaries. The experiment we selected has six runs, so it's a six element array. We show the first element below."
   ]
  },
  {
   "cell_type": "code",
   "execution_count": 40,
   "metadata": {},
   "outputs": [
    {
     "data": {
      "text/plain": [
       "Dict{String,Any} with 7 entries:\n",
       "  \"laser\"        => Dict(\"laser.1\"=>Dict{AbstractString,AbstractString}(Pair{Ab…\n",
       "  \"sequences\"    => Dict{String,Any}[Dict{String,Any}(Pair{String,Any}(\"attribu…\n",
       "  \"frames\"       => Dict[Dict{String,Any}(Pair{String,Any}(\"timing\", [0.571, 0.…\n",
       "  \"DAC\"          => Array{Dict{String,Dict{String,Any}},1}[Dict{String,Dict{Str…\n",
       "  \"globalConfig\" => Dict{String,Any}(Pair{String,Any}(\"zDevice\", 0),Pair{String…\n",
       "  \"dataDir\"      => \"example-raw-data/feb1916/TSeries-02192016-001\"\n",
       "  \"version\"      => \"5.0.32.49\""
      ]
     },
     "execution_count": 40,
     "metadata": {},
     "output_type": "execute_result"
    }
   ],
   "source": [
    "exampleTab = subTab[subTab[:Runs] .== (collect(1:6),),:] ## Selecting the line that corresponds to the example\n",
    "fly = makeflyDict(exampleTab,dataFolder=baseDataFolder)\n",
    "fly[1]"
   ]
  },
  {
   "cell_type": "markdown",
   "metadata": {},
   "source": [
    "#### Read the movies into Julia\n",
    "We loop (using the ```map``` function) on the metadata array to extract the fluorescence from the corresponding image files (this information is in the \"frames\" field of each dictionary). It returns and array (again of 6 elements) of dictionaries. "
   ]
  },
  {
   "cell_type": "code",
   "execution_count": 64,
   "metadata": {},
   "outputs": [
    {
     "data": {
      "text/plain": [
       "Dict{String,Any} with 8 entries:\n",
       "  \"B\"             => 0.00162484\n",
       "  \"pulseNumber\"   => 30\n",
       "  \"av\"            => Float32[0.00188887 0.00149907 … 0.00161103 0.00151197; 0.0…\n",
       "  \"green\"         => AxisArrays.AxisArray{FixedPointNumbers.Normed{UInt16,12},3…\n",
       "  \"runStart\"      => 0001-01-01T11:12:42\n",
       "  \"runAv\"         => Float32[0.000976801 0.000915751 … 0.0137363 0.00140415; 0.…\n",
       "  \"runStop\"       => 0001-01-01T11:13:53\n",
       "  \"stimIntensity\" => 1"
      ]
     },
     "execution_count": 64,
     "metadata": {},
     "output_type": "execute_result"
    }
   ],
   "source": [
    " runFluos = map(fly) do run\n",
    "        gc()\n",
    "        roiDict = runExtract(run,mvtCorrect=false)\n",
    "    end\n",
    "runFluos[1]"
   ]
  },
  {
   "cell_type": "markdown",
   "metadata": {},
   "source": [
    "```B``` is the computed background for those movies (the average intensity of the 10% dimmest pixels). ```pulseNumber``` and ```stimIntensity``` correspond to the stimulation protocol. Movies are stored in ```green``` (raw data), ```runAv``` (average per repeat, each movie contains four repeats), and ```av``` (average of the repeat averages). If we take a look at the ```green``` field, we see it's a four element array (one per repeat), and each of those elements is a Julia ```AxisArray```, a convenient format to represent images (see https://juliaimages.github.io/latest/):"
   ]
  },
  {
   "cell_type": "code",
   "execution_count": 46,
   "metadata": {},
   "outputs": [
    {
     "data": {
      "text/plain": [
       "3-dimensional AxisArray{N4f12,3,...} with axes:\n",
       "    :x, 0.0951465006645495:0.190293001329099:15.508879608321568\n",
       "    :y, 0.0951434879605955:0.190286975921191:28.828476852060437\n",
       "    :time, 0.0:0.0622697153999659:16.439204865590998\n",
       "And data, a 82×152×265 Array{N4f12,3}:\n",
       "[:, :, 1] =\n",
       " 0.001N4f12   0.001N4f12   0.001N4f12   …  0.001N4f12   0.0012N4f12\n",
       " 0.001N4f12   0.001N4f12   0.001N4f12      0.001N4f12   0.001N4f12 \n",
       " 0.001N4f12   0.001N4f12   0.0007N4f12     0.001N4f12   0.0007N4f12\n",
       " 0.0012N4f12  0.001N4f12   0.001N4f12      0.001N4f12   0.0012N4f12\n",
       " 0.001N4f12   0.001N4f12   0.001N4f12      0.001N4f12   0.001N4f12 \n",
       " 0.001N4f12   0.001N4f12   0.001N4f12   …  0.001N4f12   0.001N4f12 \n",
       " 0.001N4f12   0.001N4f12   0.001N4f12      0.001N4f12   0.001N4f12 \n",
       " 0.0012N4f12  0.001N4f12   0.001N4f12      0.001N4f12   0.001N4f12 \n",
       " 0.001N4f12   0.001N4f12   0.001N4f12      0.001N4f12   0.001N4f12 \n",
       " 0.0012N4f12  0.001N4f12   0.001N4f12      0.0012N4f12  0.001N4f12 \n",
       " 0.001N4f12   0.001N4f12   0.001N4f12   …  0.001N4f12   0.001N4f12 \n",
       " 0.001N4f12   0.001N4f12   0.0012N4f12     0.0505N4f12  0.0049N4f12\n",
       " 0.001N4f12   0.001N4f12   0.001N4f12      0.001N4f12   0.001N4f12 \n",
       " ⋮                                      ⋱  ⋮                       \n",
       " 0.0637N4f12  0.0012N4f12  0.001N4f12   …  0.001N4f12   0.001N4f12 \n",
       " 0.1253N4f12  0.0422N4f12  0.0015N4f12     0.001N4f12   0.001N4f12 \n",
       " 0.001N4f12   0.0012N4f12  0.001N4f12      0.001N4f12   0.001N4f12 \n",
       " 0.0073N4f12  0.0012N4f12  0.001N4f12      0.001N4f12   0.001N4f12 \n",
       " 0.0552N4f12  0.0039N4f12  0.001N4f12      0.001N4f12   0.001N4f12 \n",
       " 0.001N4f12   0.0012N4f12  0.0012N4f12  …  0.0012N4f12  0.001N4f12 \n",
       " 0.001N4f12   0.0012N4f12  0.001N4f12      0.001N4f12   0.001N4f12 \n",
       " 0.001N4f12   0.0007N4f12  0.001N4f12      0.001N4f12   0.001N4f12 \n",
       " 0.0532N4f12  0.0012N4f12  0.001N4f12      0.001N4f12   0.001N4f12 \n",
       " 0.0486N4f12  0.0054N4f12  0.001N4f12      0.001N4f12   0.001N4f12 \n",
       " 0.0012N4f12  0.001N4f12   0.001N4f12   …  0.0012N4f12  0.001N4f12 \n",
       " 0.001N4f12   0.001N4f12   0.001N4f12      0.0007N4f12  0.001N4f12 \n",
       "\n",
       "[:, :, 2] =\n",
       " 0.001N4f12   0.001N4f12   0.001N4f12   …  0.001N4f12   0.001N4f12 \n",
       " 0.001N4f12   0.001N4f12   0.001N4f12      0.0007N4f12  0.0007N4f12\n",
       " 0.001N4f12   0.001N4f12   0.001N4f12      0.001N4f12   0.001N4f12 \n",
       " 0.001N4f12   0.0007N4f12  0.001N4f12      0.0007N4f12  0.001N4f12 \n",
       " 0.001N4f12   0.001N4f12   0.0007N4f12     0.001N4f12   0.0007N4f12\n",
       " 0.0007N4f12  0.0007N4f12  0.001N4f12   …  0.001N4f12   0.001N4f12 \n",
       " 0.001N4f12   0.001N4f12   0.001N4f12      0.001N4f12   0.001N4f12 \n",
       " 0.001N4f12   0.001N4f12   0.0012N4f12     0.0007N4f12  0.0007N4f12\n",
       " 0.001N4f12   0.001N4f12   0.001N4f12      0.0254N4f12  0.0098N4f12\n",
       " 0.001N4f12   0.001N4f12   0.001N4f12      0.001N4f12   0.001N4f12 \n",
       " 0.001N4f12   0.0007N4f12  0.0012N4f12  …  0.001N4f12   0.001N4f12 \n",
       " 0.001N4f12   0.001N4f12   0.001N4f12      0.0012N4f12  0.001N4f12 \n",
       " 0.001N4f12   0.0007N4f12  0.001N4f12      0.0779N4f12  0.0056N4f12\n",
       " ⋮                                      ⋱  ⋮                       \n",
       " 0.0315N4f12  0.0012N4f12  0.001N4f12   …  0.001N4f12   0.0581N4f12\n",
       " 0.001N4f12   0.0022N4f12  0.0049N4f12     0.001N4f12   0.001N4f12 \n",
       " 0.001N4f12   0.0615N4f12  0.1306N4f12     0.001N4f12   0.001N4f12 \n",
       " 0.001N4f12   0.0022N4f12  0.019N4f12      0.001N4f12   0.001N4f12 \n",
       " 0.0012N4f12  0.0234N4f12  0.0027N4f12     0.001N4f12   0.001N4f12 \n",
       " 0.0325N4f12  0.0012N4f12  0.062N4f12   …  0.001N4f12   0.0266N4f12\n",
       " 0.0557N4f12  0.009N4f12   0.0015N4f12     0.0012N4f12  0.001N4f12 \n",
       " 0.001N4f12   0.001N4f12   0.0012N4f12     0.001N4f12   0.001N4f12 \n",
       " 0.001N4f12   0.001N4f12   0.001N4f12      0.001N4f12   0.0012N4f12\n",
       " 0.001N4f12   0.001N4f12   0.001N4f12      0.001N4f12   0.001N4f12 \n",
       " 0.001N4f12   0.001N4f12   0.0012N4f12  …  0.001N4f12   0.001N4f12 \n",
       " 0.001N4f12   0.0012N4f12  0.0051N4f12     0.0012N4f12  0.001N4f12 \n",
       "\n",
       "[:, :, 3] =\n",
       " 0.0012N4f12  0.001N4f12   0.001N4f12   …  0.001N4f12   0.001N4f12 \n",
       " 0.001N4f12   0.001N4f12   0.001N4f12      0.001N4f12   0.001N4f12 \n",
       " 0.001N4f12   0.001N4f12   0.001N4f12      0.001N4f12   0.001N4f12 \n",
       " 0.001N4f12   0.0007N4f12  0.0007N4f12     0.0007N4f12  0.001N4f12 \n",
       " 0.001N4f12   0.001N4f12   0.001N4f12      0.001N4f12   0.0007N4f12\n",
       " 0.001N4f12   0.001N4f12   0.0012N4f12  …  0.001N4f12   0.001N4f12 \n",
       " 0.001N4f12   0.001N4f12   0.001N4f12      0.001N4f12   0.001N4f12 \n",
       " 0.0012N4f12  0.001N4f12   0.001N4f12      0.0283N4f12  0.0054N4f12\n",
       " 0.001N4f12   0.001N4f12   0.001N4f12      0.001N4f12   0.001N4f12 \n",
       " 0.001N4f12   0.001N4f12   0.001N4f12      0.001N4f12   0.001N4f12 \n",
       " 0.001N4f12   0.0007N4f12  0.001N4f12   …  0.001N4f12   0.0007N4f12\n",
       " 0.001N4f12   0.0007N4f12  0.001N4f12      0.043N4f12   0.0464N4f12\n",
       " 0.001N4f12   0.001N4f12   0.001N4f12      0.001N4f12   0.001N4f12 \n",
       " ⋮                                      ⋱  ⋮                       \n",
       " 0.001N4f12   0.001N4f12   0.001N4f12   …  0.001N4f12   0.001N4f12 \n",
       " 0.001N4f12   0.001N4f12   0.001N4f12      0.001N4f12   0.001N4f12 \n",
       " 0.002N4f12   0.001N4f12   0.0012N4f12     0.001N4f12   0.0012N4f12\n",
       " 0.001N4f12   0.001N4f12   0.001N4f12      0.0012N4f12  0.001N4f12 \n",
       " 0.033N4f12   0.0103N4f12  0.0049N4f12     0.001N4f12   0.0012N4f12\n",
       " 0.0611N4f12  0.0012N4f12  0.0015N4f12  …  0.001N4f12   0.0007N4f12\n",
       " 0.001N4f12   0.0762N4f12  0.0027N4f12     0.001N4f12   0.001N4f12 \n",
       " 0.0361N4f12  0.0042N4f12  0.0012N4f12     0.001N4f12   0.001N4f12 \n",
       " 0.001N4f12   0.001N4f12   0.001N4f12      0.0007N4f12  0.001N4f12 \n",
       " 0.001N4f12   0.001N4f12   0.0012N4f12     0.001N4f12   0.001N4f12 \n",
       " 0.001N4f12   0.0017N4f12  0.0122N4f12  …  0.001N4f12   0.001N4f12 \n",
       " 0.0012N4f12  0.001N4f12   0.001N4f12      0.001N4f12   0.001N4f12 \n",
       "\n",
       "...\n",
       "\n",
       "[:, :, 263] =\n",
       " 0.0012N4f12  0.001N4f12   0.0012N4f12  …  0.001N4f12   0.0012N4f12\n",
       " 0.001N4f12   0.001N4f12   0.001N4f12      0.001N4f12   0.001N4f12 \n",
       " 0.0012N4f12  0.001N4f12   0.0012N4f12     0.001N4f12   0.001N4f12 \n",
       " 0.001N4f12   0.001N4f12   0.001N4f12      0.001N4f12   0.0012N4f12\n",
       " 0.001N4f12   0.001N4f12   0.0012N4f12     0.001N4f12   0.0012N4f12\n",
       " 0.0012N4f12  0.001N4f12   0.0012N4f12  …  0.001N4f12   0.0007N4f12\n",
       " 0.0012N4f12  0.001N4f12   0.001N4f12      0.001N4f12   0.001N4f12 \n",
       " 0.001N4f12   0.001N4f12   0.001N4f12      0.001N4f12   0.001N4f12 \n",
       " 0.001N4f12   0.001N4f12   0.001N4f12      0.001N4f12   0.001N4f12 \n",
       " 0.001N4f12   0.001N4f12   0.001N4f12      0.001N4f12   0.001N4f12 \n",
       " 0.001N4f12   0.001N4f12   0.001N4f12   …  0.001N4f12   0.001N4f12 \n",
       " 0.001N4f12   0.001N4f12   0.001N4f12      0.0007N4f12  0.0012N4f12\n",
       " 0.001N4f12   0.0012N4f12  0.001N4f12      0.001N4f12   0.001N4f12 \n",
       " ⋮                                      ⋱  ⋮                       \n",
       " 0.001N4f12   0.001N4f12   0.001N4f12   …  0.0012N4f12  0.001N4f12 \n",
       " 0.0012N4f12  0.001N4f12   0.001N4f12      0.001N4f12   0.001N4f12 \n",
       " 0.001N4f12   0.001N4f12   0.0012N4f12     0.001N4f12   0.001N4f12 \n",
       " 0.0017N4f12  0.0127N4f12  0.0769N4f12     0.0007N4f12  0.0161N4f12\n",
       " 0.001N4f12   0.0012N4f12  0.001N4f12      0.001N4f12   0.001N4f12 \n",
       " 0.001N4f12   0.0007N4f12  0.001N4f12   …  0.001N4f12   0.001N4f12 \n",
       " 0.001N4f12   0.0076N4f12  0.001N4f12      0.001N4f12   0.001N4f12 \n",
       " 0.0007N4f12  0.001N4f12   0.001N4f12      0.001N4f12   0.001N4f12 \n",
       " 0.0029N4f12  0.1893N4f12  0.0054N4f12     0.001N4f12   0.001N4f12 \n",
       " 0.0364N4f12  0.0342N4f12  0.0012N4f12     0.042N4f12   0.0054N4f12\n",
       " 0.0371N4f12  0.0015N4f12  0.0012N4f12  …  0.001N4f12   0.001N4f12 \n",
       " 0.001N4f12   0.0007N4f12  0.0178N4f12     0.0005N4f12  0.001N4f12 \n",
       "\n",
       "[:, :, 264] =\n",
       " 0.001N4f12   0.001N4f12   0.001N4f12   …  0.001N4f12   0.001N4f12 \n",
       " 0.001N4f12   0.001N4f12   0.0012N4f12     0.001N4f12   0.001N4f12 \n",
       " 0.001N4f12   0.001N4f12   0.001N4f12      0.001N4f12   0.001N4f12 \n",
       " 0.0012N4f12  0.001N4f12   0.001N4f12      0.0007N4f12  0.001N4f12 \n",
       " 0.001N4f12   0.001N4f12   0.001N4f12      0.001N4f12   0.001N4f12 \n",
       " 0.0012N4f12  0.0012N4f12  0.001N4f12   …  0.001N4f12   0.001N4f12 \n",
       " 0.001N4f12   0.001N4f12   0.001N4f12      0.0012N4f12  0.001N4f12 \n",
       " 0.002N4f12   0.041N4f12   0.001N4f12      0.001N4f12   0.001N4f12 \n",
       " 0.001N4f12   0.001N4f12   0.001N4f12      0.001N4f12   0.001N4f12 \n",
       " 0.0012N4f12  0.0012N4f12  0.001N4f12      0.0012N4f12  0.001N4f12 \n",
       " 0.001N4f12   0.0012N4f12  0.001N4f12   …  0.001N4f12   0.0012N4f12\n",
       " 0.0012N4f12  0.0012N4f12  0.0012N4f12     0.001N4f12   0.0012N4f12\n",
       " 0.0012N4f12  0.0007N4f12  0.001N4f12      0.0007N4f12  0.0007N4f12\n",
       " ⋮                                      ⋱  ⋮                       \n",
       " 0.001N4f12   0.001N4f12   0.001N4f12   …  0.001N4f12   0.001N4f12 \n",
       " 0.001N4f12   0.001N4f12   0.001N4f12      0.0007N4f12  0.001N4f12 \n",
       " 0.001N4f12   0.001N4f12   0.001N4f12      0.001N4f12   0.001N4f12 \n",
       " 0.0012N4f12  0.0012N4f12  0.0716N4f12     0.001N4f12   0.001N4f12 \n",
       " 0.001N4f12   0.001N4f12   0.0183N4f12     0.001N4f12   0.001N4f12 \n",
       " 0.0193N4f12  0.0022N4f12  0.0007N4f12  …  0.001N4f12   0.001N4f12 \n",
       " 0.001N4f12   0.0007N4f12  0.001N4f12      0.0012N4f12  0.0012N4f12\n",
       " 0.001N4f12   0.001N4f12   0.001N4f12      0.001N4f12   0.001N4f12 \n",
       " 0.0012N4f12  0.0237N4f12  0.0017N4f12     0.001N4f12   0.001N4f12 \n",
       " 0.0413N4f12  0.0137N4f12  0.001N4f12      0.001N4f12   0.001N4f12 \n",
       " 0.001N4f12   0.001N4f12   0.0012N4f12  …  0.001N4f12   0.001N4f12 \n",
       " 0.0012N4f12  0.001N4f12   0.0012N4f12     0.001N4f12   0.0007N4f12\n",
       "\n",
       "[:, :, 265] =\n",
       " 0.0947N4f12  0.0051N4f12  0.001N4f12   …  0.001N4f12   0.0156N4f12\n",
       " 0.0007N4f12  0.0012N4f12  0.0012N4f12     0.0012N4f12  0.001N4f12 \n",
       " 0.001N4f12   0.001N4f12   0.001N4f12      0.001N4f12   0.001N4f12 \n",
       " 0.0012N4f12  0.0007N4f12  0.001N4f12      0.001N4f12   0.001N4f12 \n",
       " 0.001N4f12   0.001N4f12   0.0012N4f12     0.001N4f12   0.001N4f12 \n",
       " 0.0012N4f12  0.001N4f12   0.001N4f12   …  0.0007N4f12  0.001N4f12 \n",
       " 0.001N4f12   0.001N4f12   0.001N4f12      0.001N4f12   0.001N4f12 \n",
       " 0.001N4f12   0.001N4f12   0.001N4f12      0.001N4f12   0.0007N4f12\n",
       " 0.001N4f12   0.0012N4f12  0.0012N4f12     0.001N4f12   0.001N4f12 \n",
       " 0.001N4f12   0.0012N4f12  0.001N4f12      0.001N4f12   0.001N4f12 \n",
       " 0.0012N4f12  0.001N4f12   0.001N4f12   …  0.001N4f12   0.001N4f12 \n",
       " 0.0012N4f12  0.001N4f12   0.001N4f12      0.001N4f12   0.001N4f12 \n",
       " 0.001N4f12   0.001N4f12   0.001N4f12      0.001N4f12   0.001N4f12 \n",
       " ⋮                                      ⋱  ⋮                       \n",
       " 0.0012N4f12  0.001N4f12   0.0012N4f12  …  0.001N4f12   0.001N4f12 \n",
       " 0.0269N4f12  0.001N4f12   0.0012N4f12     0.001N4f12   0.001N4f12 \n",
       " 0.001N4f12   0.0024N4f12  0.1153N4f12     0.001N4f12   0.0007N4f12\n",
       " 0.001N4f12   0.001N4f12   0.001N4f12      0.001N4f12   0.001N4f12 \n",
       " 0.001N4f12   0.001N4f12   0.001N4f12      0.001N4f12   0.001N4f12 \n",
       " 0.001N4f12   0.001N4f12   0.001N4f12   …  0.001N4f12   0.001N4f12 \n",
       " 0.0012N4f12  0.0422N4f12  0.0784N4f12     0.001N4f12   0.001N4f12 \n",
       " 0.044N4f12   0.0059N4f12  0.0012N4f12     0.001N4f12   0.0012N4f12\n",
       " 0.0391N4f12  0.0037N4f12  0.0244N4f12     0.001N4f12   0.001N4f12 \n",
       " 0.0569N4f12  0.0034N4f12  0.0508N4f12     0.0012N4f12  0.001N4f12 \n",
       " 0.001N4f12   0.0012N4f12  0.001N4f12   …  0.001N4f12   0.001N4f12 \n",
       " 0.001N4f12   0.0073N4f12  0.0249N4f12     0.001N4f12   0.001N4f12 "
      ]
     },
     "execution_count": 46,
     "metadata": {},
     "output_type": "execute_result"
    }
   ],
   "source": [
    "runFluos[1][\"green\"][1]"
   ]
  },
  {
   "cell_type": "markdown",
   "metadata": {},
   "source": [
    "#### Drift correction\n",
    "Using the average images, we correct for possible drifts in successive experiments and crop the results to a common area."
   ]
  },
  {
   "cell_type": "code",
   "execution_count": 57,
   "metadata": {
    "collapsed": true
   },
   "outputs": [],
   "source": [
    "drugStart = Missings.missing\n",
    "shifts = SharedArray{Int64}(2,length(runFluos)-1)\n",
    "ref = convert(SharedArray,runFluos[length(runFluos)][\"av\"])\n",
    "\n",
    "runFluos[1:(length(runFluos)-1)] = pmap(runFluos[1:(length(runFluos)-1)],1:(length(runFluos)-1)) do rF,run\n",
    "    registration = subpixelRegistration.stackDftReg(rF[\"av\"],ref=ref,ufac=1)\n",
    "    shifts[:,run] = round.(Int64,registration[\"shift\"])\n",
    "    ## Align the grand averages\n",
    "    rF[\"av\"] = subpixelRegistration.alignFromDict(rF[\"av\"],registration)\n",
    "    ## Align the run averages (those are \"volumes\" so we need to set the z shift to 0)\n",
    "    registration[\"shift\"] = [registration[\"shift\"];0]\n",
    "    rF[\"runAv\"] = subpixelRegistration.alignFromDict(rF[\"runAv\"],registration)\n",
    "    ## Finally align the individual runs\n",
    "    for rep in 1:length(rF[\"green\"])\n",
    "        rF[\"green\"][rep][:,:,:] = subpixelRegistration.alignFromDict(rF[\"green\"][rep],registration)\n",
    "    end\n",
    "    rF\n",
    "end\n",
    "maxShiftPos = round.(Int64,maximum([[0;0] shifts],2))\n",
    "maxShiftNeg = round.(Int64,minimum([[0;0] shifts],2))\n",
    "    \n",
    "## Cropping everything to the area common to all repeats // catch time to drug\n",
    "cropRegion = [(1+maxShiftPos[i]):(size(runFluos[1][\"av\"])[i]+maxShiftNeg[i]) for i in 1:2]\n",
    "for run in 1:length(runFluos)\n",
    "    runFluos[run][\"av\"] = runFluos[run][\"av\"][cropRegion...]\n",
    "    runFluos[run][\"runAv\"] = runFluos[run][\"runAv\"][cropRegion...,:]\n",
    "    for rep in 1:length(runFluos[run][\"green\"])\n",
    "        runFluos[run][\"green\"][rep] = runFluos[run][\"green\"][rep][cropRegion...,:]\n",
    "    end\n",
    "    if !ismissing(drugStart)\n",
    "        runFluos[run][\"timeToDrug\"] = drugStart - runFluos[run][\"runStart\"]\n",
    "    else\n",
    "        runFluos[run][\"timeToDrug\"] = Missings.missing\n",
    "    end\n",
    "end"
   ]
  },
  {
   "cell_type": "markdown",
   "metadata": {},
   "source": [
    "#### Region of interest detection\n",
    "The ROI detection is done on the average of all the movies in the experiment :"
   ]
  },
  {
   "cell_type": "code",
   "execution_count": 52,
   "metadata": {},
   "outputs": [
    {
     "data": {
      "image/png": "[encoded data removed]",
      "text/plain": [
       "78×151 Array{Gray{Float64},2}:\n",
       " Gray{Float64}(0.0398089)  …  Gray{Float64}(0.0510227)\n",
       " Gray{Float64}(0.0391759)     Gray{Float64}(0.0477917)\n",
       " Gray{Float64}(0.0387524)     Gray{Float64}(0.0588177)\n",
       " Gray{Float64}(0.0426022)     Gray{Float64}(0.063742) \n",
       " Gray{Float64}(0.0409447)     Gray{Float64}(0.0932721)\n",
       " Gray{Float64}(0.0407513)  …  Gray{Float64}(0.118821) \n",
       " Gray{Float64}(0.0424362)     Gray{Float64}(0.147188) \n",
       " Gray{Float64}(0.039124)      Gray{Float64}(0.163923) \n",
       " Gray{Float64}(0.0397872)     Gray{Float64}(0.168888) \n",
       " Gray{Float64}(0.0442022)     Gray{Float64}(0.151457) \n",
       " Gray{Float64}(0.0458832)  …  Gray{Float64}(0.16889)  \n",
       " Gray{Float64}(0.0447248)     Gray{Float64}(0.175749) \n",
       " Gray{Float64}(0.0485661)     Gray{Float64}(0.163405) \n",
       " ⋮                         ⋱  ⋮                       \n",
       " Gray{Float64}(0.199951)      Gray{Float64}(0.0424192)\n",
       " Gray{Float64}(0.235991)      Gray{Float64}(0.0419862)\n",
       " Gray{Float64}(0.242512)      Gray{Float64}(0.0401853)\n",
       " Gray{Float64}(0.245223)      Gray{Float64}(0.0426202)\n",
       " Gray{Float64}(0.27427)    …  Gray{Float64}(0.0427532)\n",
       " Gray{Float64}(0.284961)      Gray{Float64}(0.039375) \n",
       " Gray{Float64}(0.309474)      Gray{Float64}(0.0383741)\n",
       " Gray{Float64}(0.287911)      Gray{Float64}(0.0393137)\n",
       " Gray{Float64}(0.292224)      Gray{Float64}(0.0427211)\n",
       " Gray{Float64}(0.290318)   …  Gray{Float64}(0.0404401)\n",
       " Gray{Float64}(0.278954)      Gray{Float64}(0.0421853)\n",
       " Gray{Float64}(0.25673)       Gray{Float64}(0.0428428)"
      ]
     },
     "execution_count": 52,
     "metadata": {},
     "output_type": "execute_result"
    }
   ],
   "source": [
    "grdAv = mapreduce(x -> x[\"av\"],+,runFluos)/length(runFluos)\n",
    "Gray.(scaleminmax(0,maximum(grdAv)).(grdAv))"
   ]
  },
  {
   "cell_type": "markdown",
   "metadata": {},
   "source": [
    "ROIs are calculated with a simple k-means clustering on the pixel intensities (the function ```kMeansIm``` is defined in ```functions\\imageUtilities.jl``` : besides performing clustering it just reorders the clusters so that the \"dark\" one is assigned 0 and the bright one 1)."
   ]
  },
  {
   "cell_type": "code",
   "execution_count": 53,
   "metadata": {},
   "outputs": [
    {
     "data": {
      "image/png": "[encoded data removed]",
      "text/plain": [
       "78×151 Array{Gray{N0f8},2}:\n",
       " Gray{N0f8}(0.0)  Gray{N0f8}(0.0)  …  Gray{N0f8}(0.0)  Gray{N0f8}(0.0)\n",
       " Gray{N0f8}(0.0)  Gray{N0f8}(0.0)     Gray{N0f8}(0.0)  Gray{N0f8}(0.0)\n",
       " Gray{N0f8}(0.0)  Gray{N0f8}(0.0)     Gray{N0f8}(0.0)  Gray{N0f8}(0.0)\n",
       " Gray{N0f8}(0.0)  Gray{N0f8}(0.0)     Gray{N0f8}(0.0)  Gray{N0f8}(0.0)\n",
       " Gray{N0f8}(0.0)  Gray{N0f8}(0.0)     Gray{N0f8}(0.0)  Gray{N0f8}(0.0)\n",
       " Gray{N0f8}(0.0)  Gray{N0f8}(0.0)  …  Gray{N0f8}(0.0)  Gray{N0f8}(0.0)\n",
       " Gray{N0f8}(0.0)  Gray{N0f8}(0.0)     Gray{N0f8}(0.0)  Gray{N0f8}(0.0)\n",
       " Gray{N0f8}(0.0)  Gray{N0f8}(0.0)     Gray{N0f8}(0.0)  Gray{N0f8}(0.0)\n",
       " Gray{N0f8}(0.0)  Gray{N0f8}(0.0)     Gray{N0f8}(0.0)  Gray{N0f8}(0.0)\n",
       " Gray{N0f8}(0.0)  Gray{N0f8}(0.0)     Gray{N0f8}(0.0)  Gray{N0f8}(0.0)\n",
       " Gray{N0f8}(0.0)  Gray{N0f8}(0.0)  …  Gray{N0f8}(0.0)  Gray{N0f8}(0.0)\n",
       " Gray{N0f8}(0.0)  Gray{N0f8}(0.0)     Gray{N0f8}(0.0)  Gray{N0f8}(0.0)\n",
       " Gray{N0f8}(0.0)  Gray{N0f8}(0.0)     Gray{N0f8}(0.0)  Gray{N0f8}(0.0)\n",
       " ⋮                                 ⋱                   ⋮              \n",
       " Gray{N0f8}(0.0)  Gray{N0f8}(0.0)     Gray{N0f8}(0.0)  Gray{N0f8}(0.0)\n",
       " Gray{N0f8}(1.0)  Gray{N0f8}(1.0)     Gray{N0f8}(0.0)  Gray{N0f8}(0.0)\n",
       " Gray{N0f8}(1.0)  Gray{N0f8}(1.0)     Gray{N0f8}(0.0)  Gray{N0f8}(0.0)\n",
       " Gray{N0f8}(1.0)  Gray{N0f8}(1.0)     Gray{N0f8}(0.0)  Gray{N0f8}(0.0)\n",
       " Gray{N0f8}(1.0)  Gray{N0f8}(1.0)  …  Gray{N0f8}(0.0)  Gray{N0f8}(0.0)\n",
       " Gray{N0f8}(1.0)  Gray{N0f8}(1.0)     Gray{N0f8}(0.0)  Gray{N0f8}(0.0)\n",
       " Gray{N0f8}(1.0)  Gray{N0f8}(1.0)     Gray{N0f8}(0.0)  Gray{N0f8}(0.0)\n",
       " Gray{N0f8}(1.0)  Gray{N0f8}(1.0)     Gray{N0f8}(0.0)  Gray{N0f8}(0.0)\n",
       " Gray{N0f8}(1.0)  Gray{N0f8}(1.0)     Gray{N0f8}(0.0)  Gray{N0f8}(0.0)\n",
       " Gray{N0f8}(1.0)  Gray{N0f8}(1.0)  …  Gray{N0f8}(0.0)  Gray{N0f8}(0.0)\n",
       " Gray{N0f8}(1.0)  Gray{N0f8}(1.0)     Gray{N0f8}(0.0)  Gray{N0f8}(0.0)\n",
       " Gray{N0f8}(1.0)  Gray{N0f8}(1.0)     Gray{N0f8}(0.0)  Gray{N0f8}(0.0)"
      ]
     },
     "execution_count": 53,
     "metadata": {},
     "output_type": "execute_result"
    }
   ],
   "source": [
    "fluorescentRegions = kMeansIm(grdAv,2)\n",
    "Gray.(fluorescentRegions)"
   ]
  },
  {
   "cell_type": "markdown",
   "metadata": {},
   "source": [
    "#### Fluorescence extraction\n",
    "We first extract the fluorescence parameters (as a dictionary) and the fluorescence traces (as an array of AxisArrays) : "
   ]
  },
  {
   "cell_type": "code",
   "execution_count": 58,
   "metadata": {},
   "outputs": [
    {
     "data": {
      "text/plain": [
       "3-dimensional AxisArray{Float64,3,...} with axes:\n",
       "    :time, 0.0:0.0622697153999659:16.439204865590998\n",
       "    :ROI, 1:1\n",
       "    :page, Base.OneTo(4)\n",
       "And data, a 265×1×4 Array{Float64,3}:\n",
       "[:, :, 1] =\n",
       " 22.1961\n",
       " 22.5438\n",
       " 21.7519\n",
       " 20.3543\n",
       " 22.2515\n",
       " 20.4947\n",
       " 23.7072\n",
       " 20.5487\n",
       " 21.4701\n",
       " 22.105 \n",
       " 21.2159\n",
       " 21.3482\n",
       " 21.1326\n",
       "  ⋮     \n",
       " 21.4115\n",
       " 23.1748\n",
       " 22.4672\n",
       " 23.2449\n",
       " 20.631 \n",
       " 22.1267\n",
       " 21.3463\n",
       " 22.8193\n",
       " 23.5219\n",
       " 21.4974\n",
       " 19.959 \n",
       " 22.0796\n",
       "\n",
       "[:, :, 2] =\n",
       " 22.5255\n",
       " 23.9875\n",
       " 25.8347\n",
       " 22.9346\n",
       " 23.2291\n",
       " 22.9416\n",
       " 22.8647\n",
       " 23.537 \n",
       " 22.3932\n",
       " 20.7805\n",
       " 23.1284\n",
       " 24.4982\n",
       " 22.0139\n",
       "  ⋮     \n",
       " 21.409 \n",
       " 22.2545\n",
       " 22.2589\n",
       " 24.3944\n",
       " 23.6532\n",
       " 24.4427\n",
       " 23.1795\n",
       " 23.8947\n",
       " 23.8982\n",
       " 22.6015\n",
       " 22.9175\n",
       " 21.2901\n",
       "\n",
       "[:, :, 3] =\n",
       " 25.1678\n",
       " 23.3031\n",
       " 23.9492\n",
       " 25.5536\n",
       " 23.8193\n",
       " 21.8173\n",
       " 23.6618\n",
       " 22.4156\n",
       " 23.9338\n",
       " 22.4825\n",
       " 25.2049\n",
       " 23.6024\n",
       " 21.9011\n",
       "  ⋮     \n",
       " 24.5724\n",
       " 22.959 \n",
       " 23.2637\n",
       " 22.7709\n",
       " 22.8208\n",
       " 26.3143\n",
       " 21.8051\n",
       " 23.9768\n",
       " 22.7407\n",
       " 23.0945\n",
       " 22.9712\n",
       " 23.738 \n",
       "\n",
       "[:, :, 4] =\n",
       " 26.4847\n",
       " 25.0078\n",
       " 25.1788\n",
       " 24.9629\n",
       " 24.3934\n",
       " 24.8803\n",
       " 24.0132\n",
       " 22.9683\n",
       " 22.2947\n",
       " 23.2777\n",
       " 21.6391\n",
       " 23.2413\n",
       " 23.4689\n",
       "  ⋮     \n",
       " 24.7104\n",
       " 22.9773\n",
       " 24.074 \n",
       " 23.0217\n",
       " 23.233 \n",
       " 22.0425\n",
       " 24.0147\n",
       " 25.2591\n",
       " 22.2051\n",
       " 24.5126\n",
       " 23.3248\n",
       " 23.4913"
      ]
     },
     "execution_count": 58,
     "metadata": {},
     "output_type": "execute_result"
    }
   ],
   "source": [
    "fluoSimple = [cat(3,[FluorescentSerie(rep,fluorescentRegions) for rep in runF[\"green\"]]...) for runF in runFluos]\n",
    "fluoParams = [Dict(\"pulseNumber\" => runF[\"pulseNumber\"],\n",
    "                   \"timeToDrug\" => runF[\"timeToDrug\"],\n",
    "                   \"stimIntensity\"=>runF[\"stimIntensity\"]) for runF in runFluos]\n",
    "fluoSimple[1]"
   ]
  },
  {
   "cell_type": "markdown",
   "metadata": {},
   "source": [
    "Each one of this AxisArrays has three axis : ```:time```, ```:ROI``` (which should be self explanatory) and ```page``` which corresponds to the experimental repeats.\n",
    "\n",
    "#### &#916;F/F<sub>0</sub> calculation\n",
    "We first extract the Pockels cell configuration so that we only group runs with the same setting for &#916;F/F<sub>0</sub> calculation. In this case there's only one level so all runs will be grouped."
   ]
  },
  {
   "cell_type": "code",
   "execution_count": 59,
   "metadata": {},
   "outputs": [
    {
     "data": {
      "text/plain": [
       "1-element Array{Int64,1}:\n",
       " 12"
      ]
     },
     "execution_count": 59,
     "metadata": {},
     "output_type": "execute_result"
    }
   ],
   "source": [
    "## Find the global F0 as the median of the 5% dimmest pixels\n",
    "pockelsParams = [fly[i][\"globalConfig\"][\"laserPower_0\"] for i in eachindex(fly)]\n",
    "powerLevels = unique(pockelsParams)"
   ]
  },
  {
   "cell_type": "markdown",
   "metadata": {},
   "source": [
    "The global F<sub>0</sub> is then defined as the median fluorescence in the 5% dimmest frames in the ROI. The ```deltaFF``` function (defined in the [FluorescentSeries package](https://github.com/romainFr/FluorescentSeries.jl) computes the &#916;F/F<sub>0</sub>."
   ]
  },
  {
   "cell_type": "code",
   "execution_count": 35,
   "metadata": {
    "collapsed": true
   },
   "outputs": [],
   "source": [
    "## Initialize with the raw fluo\n",
    "deltaFluoSimple = fluoSimple\n",
    "## The background used is the mean background\n",
    "globalBackground = mean([run[\"B\"] for run in runFluos])\n",
    "## Empty array of baselines\n",
    "globalBaseline = Array{Array{Float64,1}}(length(powerLevels))\n",
    "## Looping over the Pockels setting groups\n",
    "for pw in eachindex(powerLevels)\n",
    "    runsIdx = find(pockelsParams .== powerLevels[pw])\n",
    "    length(runsIdx) == 1 ? giantFluo = fluoSimple[runsIdx[1]] : giantFluo = vcat([x.data for x in fluoSimple[runsIdx]]...)\n",
    "        \n",
    "    giantFluo = reshape(permutedims(giantFluo,[1;3;2]),size(giantFluo,1)*size(giantFluo,3),size(giantFluo,2))\n",
    "    globalQ3 = [quantile(giantFluo[:,i],0.05) for i in 1:size(giantFluo)[2]]\n",
    "    globalBaseline = median(giantFluo[find(giantFluo.< transpose(globalQ3))],1)[:]\n",
    "    deltaFluoSimple[runsIdx] = [deltaFF(fluoSimple[runsIdx][i],\n",
    "                                        globalBaseline,\n",
    "                                        globalBackground) for i in eachindex(fluoSimple[runsIdx])]\n",
    "end"
   ]
  },
  {
   "cell_type": "markdown",
   "metadata": {},
   "source": [
    "#### Image formating for export\n",
    "We just give the images meaningful axis for export."
   ]
  },
  {
   "cell_type": "code",
   "execution_count": 60,
   "metadata": {},
   "outputs": [
    {
     "data": {
      "image/png": "[encoded data removed]",
      "text/plain": [
       "2-dimensional AxisArray{Gray{N4f12},2,...} with axes:\n",
       "    :x, 0.0951465006645495:0.190293001329099:14.747707603005171\n",
       "    :y, 0.2854304638817865:0.190286975921191:28.828476852060437\n",
       "And data, a 78×151 Array{Gray{N4f12},2}:\n",
       " Gray{N4f12}(0.0017)  Gray{N4f12}(0.0017)  …  Gray{N4f12}(0.0022)\n",
       " Gray{N4f12}(0.0017)  Gray{N4f12}(0.0017)     Gray{N4f12}(0.002) \n",
       " Gray{N4f12}(0.0015)  Gray{N4f12}(0.0017)     Gray{N4f12}(0.0024)\n",
       " Gray{N4f12}(0.0017)  Gray{N4f12}(0.0017)     Gray{N4f12}(0.0027)\n",
       " Gray{N4f12}(0.0017)  Gray{N4f12}(0.0017)     Gray{N4f12}(0.0039)\n",
       " Gray{N4f12}(0.0017)  Gray{N4f12}(0.0017)  …  Gray{N4f12}(0.0049)\n",
       " Gray{N4f12}(0.0017)  Gray{N4f12}(0.0017)     Gray{N4f12}(0.0061)\n",
       " Gray{N4f12}(0.0017)  Gray{N4f12}(0.0017)     Gray{N4f12}(0.0066)\n",
       " Gray{N4f12}(0.0017)  Gray{N4f12}(0.0017)     Gray{N4f12}(0.0068)\n",
       " Gray{N4f12}(0.0017)  Gray{N4f12}(0.0017)     Gray{N4f12}(0.0061)\n",
       " Gray{N4f12}(0.002)   Gray{N4f12}(0.0017)  …  Gray{N4f12}(0.0068)\n",
       " Gray{N4f12}(0.0017)  Gray{N4f12}(0.002)      Gray{N4f12}(0.0071)\n",
       " Gray{N4f12}(0.002)   Gray{N4f12}(0.0022)     Gray{N4f12}(0.0066)\n",
       " ⋮                                         ⋱  ⋮                  \n",
       " Gray{N4f12}(0.0081)  Gray{N4f12}(0.0083)     Gray{N4f12}(0.0017)\n",
       " Gray{N4f12}(0.0095)  Gray{N4f12}(0.0093)     Gray{N4f12}(0.0017)\n",
       " Gray{N4f12}(0.0098)  Gray{N4f12}(0.0093)     Gray{N4f12}(0.0017)\n",
       " Gray{N4f12}(0.01)    Gray{N4f12}(0.01)       Gray{N4f12}(0.0017)\n",
       " Gray{N4f12}(0.0112)  Gray{N4f12}(0.0107)  …  Gray{N4f12}(0.0017)\n",
       " Gray{N4f12}(0.0115)  Gray{N4f12}(0.0117)     Gray{N4f12}(0.0017)\n",
       " Gray{N4f12}(0.0127)  Gray{N4f12}(0.0122)     Gray{N4f12}(0.0015)\n",
       " Gray{N4f12}(0.0117)  Gray{N4f12}(0.0115)     Gray{N4f12}(0.0017)\n",
       " Gray{N4f12}(0.012)   Gray{N4f12}(0.0115)     Gray{N4f12}(0.0017)\n",
       " Gray{N4f12}(0.0117)  Gray{N4f12}(0.0105)  …  Gray{N4f12}(0.0017)\n",
       " Gray{N4f12}(0.0112)  Gray{N4f12}(0.011)      Gray{N4f12}(0.0017)\n",
       " Gray{N4f12}(0.0105)  Gray{N4f12}(0.01)       Gray{N4f12}(0.0017)"
      ]
     },
     "execution_count": 60,
     "metadata": {},
     "output_type": "execute_result"
    }
   ],
   "source": [
    "grdAv = AxisArray(Gray.(N4f12.(grdAv)),axes(runFluos[1][\"green\"][1],1),axes(runFluos[1][\"green\"][1],2))"
   ]
  },
  {
   "cell_type": "code",
   "execution_count": 61,
   "metadata": {},
   "outputs": [
    {
     "data": {
      "text/plain": [
       "2-dimensional AxisArray{Int64,2,...} with axes:\n",
       "    :x, 0.0951465006645495:0.190293001329099:14.747707603005171\n",
       "    :y, 0.2854304638817865:0.190286975921191:28.828476852060437\n",
       "And data, a 78×151 Array{Int64,2}:\n",
       " 0  0  0  0  0  0  0  0  0  0  0  0  0  …  0  0  0  0  0  0  0  0  0  0  0  0\n",
       " 0  0  0  0  0  0  0  0  0  0  0  0  0     0  0  0  0  0  0  0  0  0  0  0  0\n",
       " 0  0  0  0  0  0  0  0  0  0  0  0  0     0  0  0  0  0  0  0  0  0  0  0  0\n",
       " 0  0  0  0  0  0  0  0  0  0  0  0  0     0  0  0  0  0  0  0  0  0  0  0  0\n",
       " 0  0  0  0  0  0  0  0  0  0  0  0  0     0  0  0  0  0  0  0  0  0  0  0  0\n",
       " 0  0  0  0  0  0  0  0  0  0  0  0  0  …  0  0  0  0  0  0  0  0  0  0  0  0\n",
       " 0  0  0  0  0  0  0  0  0  0  0  0  0     0  0  0  0  0  0  0  0  0  0  0  0\n",
       " 0  0  0  0  0  0  0  0  0  0  0  0  0     0  0  0  0  0  0  0  0  0  0  0  0\n",
       " 0  0  0  0  0  0  0  0  0  0  0  0  0     0  1  1  1  0  0  0  0  0  0  0  0\n",
       " 0  0  0  0  0  0  0  0  0  0  0  0  0     1  1  1  0  0  0  0  0  0  0  0  0\n",
       " 0  0  0  0  0  0  0  0  0  0  0  0  0  …  0  0  0  0  0  0  0  0  0  0  0  0\n",
       " 0  0  0  0  0  0  0  0  0  0  0  0  0     0  0  0  0  0  0  0  0  0  0  0  0\n",
       " 0  0  0  0  0  0  0  0  0  0  0  0  0     0  0  0  0  0  0  0  0  0  0  0  0\n",
       " ⋮              ⋮              ⋮        ⋱     ⋮              ⋮              ⋮\n",
       " 0  0  0  0  0  0  0  0  0  0  0  0  0     0  0  0  0  0  0  0  0  0  0  0  0\n",
       " 1  1  0  0  0  0  0  0  0  0  0  0  0     0  0  0  0  0  0  0  0  0  0  0  0\n",
       " 1  1  0  0  0  0  0  0  0  0  0  0  0     0  0  0  0  0  0  0  0  0  0  0  0\n",
       " 1  1  0  0  0  0  0  1  1  1  0  0  0     0  0  0  0  0  0  0  0  0  0  0  0\n",
       " 1  1  1  0  0  0  1  1  1  1  0  0  0  …  0  0  0  0  0  0  0  0  0  0  0  0\n",
       " 1  1  1  1  1  1  1  1  1  1  0  0  0     0  0  0  0  0  0  0  0  0  0  0  0\n",
       " 1  1  1  1  1  1  1  1  1  0  0  0  0     0  0  0  0  0  0  0  0  0  0  0  0\n",
       " 1  1  1  1  1  0  1  0  0  0  0  0  0     0  0  0  0  0  0  0  0  0  0  0  0\n",
       " 1  1  1  1  1  1  0  0  0  0  0  0  0     0  0  0  0  0  0  0  0  0  0  0  0\n",
       " 1  1  1  1  1  1  0  0  0  0  0  0  0  …  0  0  0  0  0  0  0  0  0  0  0  0\n",
       " 1  1  1  1  1  0  0  0  0  0  0  0  0     0  0  0  0  0  0  0  0  0  0  0  0\n",
       " 1  1  1  1  0  0  0  0  0  0  0  0  0     0  0  0  0  0  0  0  0  0  0  0  0"
      ]
     },
     "execution_count": 61,
     "metadata": {},
     "output_type": "execute_result"
    }
   ],
   "source": [
    "fluorescentRegions = AxisArray(fluorescentRegions,axes(runFluos[1][\"green\"][1],1),axes(runFluos[1][\"green\"][1],2))"
   ]
  },
  {
   "cell_type": "markdown",
   "metadata": {},
   "source": [
    "## Not run (runs in the script)\n",
    "\n",
    "The production script runs those functions in a loop, stores each deltaFluoSimple/fluoParams as an entry in a dictionnary (save in the rawData.jld2 file), the average image and the ROI image in expImages.jld2, and the data frame version of the labbook in labbookTable.jld2"
   ]
  }
 ],
 "metadata": {
  "kernelspec": {
   "display_name": "Julia 0.6.2",
   "language": "julia",
   "name": "julia-0.6"
  },
  "language_info": {
   "file_extension": ".jl",
   "mimetype": "application/julia",
   "name": "julia",
   "version": "0.6.2"
  }
 },
 "nbformat": 4,
 "nbformat_minor": 2
}
